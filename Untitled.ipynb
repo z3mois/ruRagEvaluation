{
 "cells": [
  {
   "cell_type": "code",
   "execution_count": 1,
   "id": "1009d42e",
   "metadata": {},
   "outputs": [
    {
     "name": "stderr",
     "output_type": "stream",
     "text": [
      "/usr/local/lib/python3.10/dist-packages/tqdm/auto.py:21: TqdmWarning: IProgress not found. Please update jupyter and ipywidgets. See https://ipywidgets.readthedocs.io/en/stable/user_install.html\n",
      "  from .autonotebook import tqdm as notebook_tqdm\n"
     ]
    }
   ],
   "source": [
    "from promt_test.scoring import run_evaluation"
   ]
  },
  {
   "cell_type": "code",
   "execution_count": 2,
   "id": "c29f77ec",
   "metadata": {},
   "outputs": [],
   "source": [
    "article_prompt = '''\n",
    "I asked someone to answer a question based on one or more documents.\n",
    "Your task is to review their response and assess whether or not each sentence\n",
    "in that response is supported by text in the documents. And if so, which\n",
    "sentences in the documents provide that support. You will also tell me which\n",
    "of the documents contain useful information for answering the question, and\n",
    "which of the documents the answer was sourced from.\n",
    "Here are the documents, each of which is split into sentences. Alongside each\n",
    "sentence is associated key, such as ’0a.’ or ’0b.’ that you can use to refer\n",
    "to it:\n",
    "‘‘‘\n",
    "{documents}\n",
    "‘‘‘\n",
    "The question was:\n",
    "‘‘‘\n",
    "{question}\n",
    "‘‘‘\n",
    "Here is their response, split into sentences. Alongside each sentence is\n",
    "associated key, such as ’a.’ or ’b.’ that you can use to refer to it. Note\n",
    "that these keys are unique to the response, and are not related to the keys\n",
    "in the documents:\n",
    "‘‘‘\n",
    "{answer}\n",
    "‘‘‘\n",
    "You must respond with a JSON object matching this schema:\n",
    "‘‘‘\n",
    "{{\n",
    "\"relevance_explanation\": string,\n",
    "\"all_relevant_sentence_keys\": [string],\n",
    "\"overall_supported_explanation\": string,\n",
    "\"overall_supported\": boolean,\n",
    "\"sentence_support_information\": [\n",
    "{{\n",
    "\"response_sentence_key\": string,\n",
    "\"explanation\": string,\n",
    "\"supporting_sentence_keys\": [string],\n",
    "\"fully_supported\": boolean\n",
    "}},\n",
    "],\n",
    "\"all_utilized_sentence_keys\": [string]\n",
    "}}\n",
    "‘‘‘\n",
    "The relevance_explanation field is a string explaining which documents\n",
    "contain useful information for answering the question. Provide a step-by-step\n",
    "breakdown of information provided in the documents and how it is useful for\n",
    "answering the question.\n",
    "The all_relevant_sentence_keys field is a list of all document sentences keys\n",
    "(e.g. ’0a’) that are revant to the question. Include every sentence that is\n",
    "useful and relevant to the question, even if it was not used in the response,\n",
    "or if only parts of the sentence are useful. Ignore the provided response when\n",
    "making this judgement and base your judgement solely on the provided documents\n",
    "and question. Omit sentences that, if removed from the document, would not\n",
    "impact someone’s ability to answer the question.\n",
    "The overall_supported_explanation field is a string explaining why the response\n",
    "*as a whole* is or is not supported by the documents. In this field, provide a\n",
    "step-by-step breakdown of the claims made in the response and the support (or\n",
    "lack thereof) for those claims in the documents. Begin by assessing each claim\n",
    "separately, one by one; don’t make any remarks about the response as a whole\n",
    "until you have assessed all the claims in isolation.\n",
    "The overall_supported field is a boolean indicating whether the response as a\n",
    "whole is supported by the documents. This value should reflect the conclusion\n",
    "you drew at the end of your step-by-step breakdown in overall_supported_explanation.\n",
    "In the sentence_support_information field, provide information about the support\n",
    "*for each sentence* in the response.\n",
    "The sentence_support_information field is a list of objects, one for each sentence\n",
    "in the response. Each object MUST have the following fields:\n",
    "- response_sentence_key: a string identifying the sentence in the response.\n",
    "This key is the same as the one used in the response above.\n",
    "- explanation: a string explaining why the sentence is or is not supported by the\n",
    "documents.\n",
    "- supporting_sentence_keys: keys (e.g. ’0a’) of sentences from the documents that\n",
    "support the response sentence. If the sentence is not supported, this list MUST\n",
    "be empty. If the sentence is supported, this list MUST contain one or more keys.\n",
    "In special cases where the sentence is supported, but not by any specific sentence,\n",
    "you can use the string \"supported_without_sentence\" to indicate that the sentence\n",
    "is generally supported by the documents. Consider cases where the sentence is\n",
    "expressing inability to answer the question due to lack of relevant information in\n",
    "the provided contex as \"supported_without_sentence\". In cases where the sentence\n",
    "is making a general statement (e.g. outlining the steps to produce an answer, or\n",
    "summarizing previously stated sentences, or a transition sentence), use the\n",
    "sting \"general\".In cases where the sentence is correctly stating a well-known fact,\n",
    "like a mathematical formula, use the string \"well_known_fact\". In cases where the\n",
    "sentence is performing numerical reasoning (e.g. addition, multiplication), use\n",
    "the string \"numerical_reasoning\".\n",
    "- fully_supported: a boolean indicating whether the sentence is fully supported by\n",
    "the documents.\n",
    "- This value should reflect the conclusion you drew at the end of your step-by-step\n",
    "breakdown in explanation.\n",
    "- If supporting_sentence_keys is an empty list, then fully_supported must be false.\n",
    "- Otherwise, use fully_supported to clarify whether everything in the response\n",
    "sentence is fully supported by the document text indicated in supporting_sentence_keys\n",
    "(fully_supported = true), or whether the sentence is only partially or incompletely\n",
    "supported by that document text (fully_supported = false).\n",
    "The all_utilized_sentence_keys field is a list of all sentences keys (e.g. ’0a’) that\n",
    "were used to construct the answer. Include every sentence that either directly supported\n",
    "the answer, or was implicitly used to construct the answer, even if it was not used\n",
    "in its entirety. Omit sentences that were not used, and could have been removed from\n",
    "the documents without affecting the answer.\n",
    "You must respond with a valid JSON string. Use escapes for quotes, e.g. ‘\\\\\"‘, and\n",
    "newlines, e.g. ‘\\\\n‘. Do not write anything before or after the JSON string. Do not\n",
    "wrap the JSON string in backticks like ``` or ‘‘‘json.\n",
    "As a reminder: your task is to review the response and assess which documents contain\n",
    "useful information pertaining to the question, and how each sentence in the response\n",
    "is supported by the text in the documents.\n",
    "'''"
   ]
  },
  {
   "cell_type": "code",
   "execution_count": 3,
   "id": "fa10d6df",
   "metadata": {},
   "outputs": [],
   "source": [
    "from transformers import AutoTokenizer\n",
    "MODEL_NAME = \"Qwen/Qwen2.5-72B-Instruct\"\n",
    "tokenizer = AutoTokenizer.from_pretrained(MODEL_NAME)"
   ]
  },
  {
   "cell_type": "code",
   "execution_count": 4,
   "id": "944c18dd",
   "metadata": {},
   "outputs": [],
   "source": [
    "from openai import AsyncOpenAI\n",
    "client = AsyncOpenAI(api_key='874c364705747e7ab314ceba89c2029c9a72ab2154664c470eb4ce18c2f0acb0', base_url= \"http://10.36.60.52:1234/v1\")\n",
    "model_id = 'qwen2.5-72b'"
   ]
  },
  {
   "cell_type": "code",
   "execution_count": 5,
   "id": "5cb457cc",
   "metadata": {},
   "outputs": [],
   "source": [
    "import asyncio"
   ]
  },
  {
   "cell_type": "code",
   "execution_count": null,
   "id": "ed3c9dbd",
   "metadata": {},
   "outputs": [
    {
     "name": "stdout",
     "output_type": "stream",
     "text": [
      "Датасет covidqa.train: 1252\n",
      "Датасет covidqa.train после чистки: 1252 на пусто\n",
      "Датасет covidqa.train после чистки: 1252 на max_tokens\n",
      "Датасет covidqa.train после чистки: 1252\n",
      "Взято из covidqa.train после чистки: 187\n"
     ]
    },
    {
     "name": "stderr",
     "output_type": "stream",
     "text": [
      "100%|████████████████████████████████████████████████████████████████████████████████████████████████████████████████████████████████████████████████████████████████████████████████████████████████████████████| 24/24 [15:39<00:00, 39.14s/it]\n",
      "100%|███████████████████████████████████████████████████████████████████████████████████████████████████████████████████████████████████████████████████████████████████████████████████████████████████████| 187/187 [00:00<00:00, 12834.38it/s]\n"
     ]
    },
    {
     "name": "stdout",
     "output_type": "stream",
     "text": [
      "Успешно распарсено в covidqa.train: 187\n",
      "Ошибочных ответов в covidqa.train: 0\n",
      "Датасет covidqa.validation: 267\n",
      "Датасет covidqa.validation после чистки: 267 на пусто\n",
      "Датасет covidqa.validation после чистки: 267 на max_tokens\n",
      "Датасет covidqa.validation после чистки: 267\n",
      "Взято из covidqa.validation после чистки: 40\n"
     ]
    },
    {
     "name": "stderr",
     "output_type": "stream",
     "text": [
      "100%|██████████████████████████████████████████████████████████████████████████████████████████████████████████████████████████████████████████████████████████████████████████████████████████████████████████████| 5/5 [03:28<00:00, 41.70s/it]\n",
      "100%|█████████████████████████████████████████████████████████████████████████████████████████████████████████████████████████████████████████████████████████████████████████████████████████████████████████| 40/40 [00:00<00:00, 12621.09it/s]\n"
     ]
    },
    {
     "name": "stdout",
     "output_type": "stream",
     "text": [
      "Успешно распарсено в covidqa.validation: 40\n",
      "Ошибочных ответов в covidqa.validation: 0\n",
      "Датасет covidqa.test: 246\n",
      "Датасет covidqa.test после чистки: 246 на пусто\n",
      "Датасет covidqa.test после чистки: 246 на max_tokens\n",
      "Датасет covidqa.test после чистки: 246\n",
      "Взято из covidqa.test после чистки: 36\n"
     ]
    },
    {
     "name": "stderr",
     "output_type": "stream",
     "text": [
      "100%|██████████████████████████████████████████████████████████████████████████████████████████████████████████████████████████████████████████████████████████████████████████████████████████████████████████████| 5/5 [04:05<00:00, 49.10s/it]\n",
      "100%|█████████████████████████████████████████████████████████████████████████████████████████████████████████████████████████████████████████████████████████████████████████████████████████████████████████| 36/36 [00:00<00:00, 11473.78it/s]\n"
     ]
    },
    {
     "name": "stdout",
     "output_type": "stream",
     "text": [
      "Успешно распарсено в covidqa.test: 36\n",
      "Ошибочных ответов в covidqa.test: 0\n",
      "Датасет cuad.train: 1530\n",
      "Датасет cuad.train после чистки: 1530 на пусто\n",
      "Датасет cuad.train после чистки: 677 на max_tokens\n",
      "Датасет cuad.train после чистки: 677\n",
      "Взято из cuad.train после чистки: 101\n"
     ]
    },
    {
     "name": "stderr",
     "output_type": "stream",
     "text": [
      "100%|███████████████████████████████████████████████████████████████████████████████████████████████████████████████████████████████████████████████████████████████████████████████████████████████████████████| 13/13 [25:14<00:00, 116.46s/it]\n",
      "100%|████████████████████████████████████████████████████████████████████████████████████████████████████████████████████████████████████████████████████████████████████████████████████████████████████████| 101/101 [00:00<00:00, 5312.97it/s]\n"
     ]
    },
    {
     "name": "stdout",
     "output_type": "stream",
     "text": [
      "Успешно распарсено в cuad.train: 72\n",
      "Ошибочных ответов в cuad.train: 29\n",
      "Датасет cuad.validation: 510\n",
      "Датасет cuad.validation после чистки: 510 на пусто\n",
      "Датасет cuad.validation после чистки: 225 на max_tokens\n",
      "Датасет cuad.validation после чистки: 225\n",
      "Взято из cuad.validation после чистки: 33\n"
     ]
    },
    {
     "name": "stderr",
     "output_type": "stream",
     "text": [
      "100%|██████████████████████████████████████████████████████████████████████████████████████████████████████████████████████████████████████████████████████████████████████████████████████████████████████████████| 5/5 [07:41<00:00, 92.37s/it]\n",
      "100%|██████████████████████████████████████████████████████████████████████████████████████████████████████████████████████████████████████████████████████████████████████████████████████████████████████████| 33/33 [00:00<00:00, 5542.91it/s]\n"
     ]
    },
    {
     "name": "stdout",
     "output_type": "stream",
     "text": [
      "Успешно распарсено в cuad.validation: 24\n",
      "Ошибочных ответов в cuad.validation: 9\n",
      "Датасет cuad.test: 510\n",
      "Датасет cuad.test после чистки: 510 на пусто\n",
      "Датасет cuad.test после чистки: 270 на max_tokens\n",
      "Датасет cuad.test после чистки: 270\n",
      "Взято из cuad.test после чистки: 40\n"
     ]
    },
    {
     "name": "stderr",
     "output_type": "stream",
     "text": [
      "100%|█████████████████████████████████████████████████████████████████████████████████████████████████████████████████████████████████████████████████████████████████████████████████████████████████████████████| 5/5 [09:56<00:00, 119.21s/it]\n",
      "100%|██████████████████████████████████████████████████████████████████████████████████████████████████████████████████████████████████████████████████████████████████████████████████████████████████████████| 40/40 [00:00<00:00, 4850.59it/s]\n"
     ]
    },
    {
     "name": "stdout",
     "output_type": "stream",
     "text": [
      "Успешно распарсено в cuad.test: 27\n",
      "Ошибочных ответов в cuad.test: 13\n",
      "Датасет delucionqa.train: 1460\n",
      "Датасет delucionqa.train после чистки: 1458 на пусто\n",
      "Датасет delucionqa.train после чистки: 1458 на max_tokens\n",
      "Датасет delucionqa.train после чистки: 1458\n",
      "Взято из delucionqa.train после чистки: 218\n"
     ]
    },
    {
     "name": "stderr",
     "output_type": "stream",
     "text": [
      "100%|████████████████████████████████████████████████████████████████████████████████████████████████████████████████████████████████████████████████████████████████████████████████████████████████████████████| 28/28 [29:16<00:00, 62.73s/it]\n",
      "100%|████████████████████████████████████████████████████████████████████████████████████████████████████████████████████████████████████████████████████████████████████████████████████████████████████████| 218/218 [00:00<00:00, 6195.01it/s]\n"
     ]
    },
    {
     "name": "stdout",
     "output_type": "stream",
     "text": [
      "Успешно распарсено в delucionqa.train: 174\n",
      "Ошибочных ответов в delucionqa.train: 44\n",
      "Датасет delucionqa.validation: 182\n",
      "Датасет delucionqa.validation после чистки: 182 на пусто\n",
      "Датасет delucionqa.validation после чистки: 182 на max_tokens\n",
      "Датасет delucionqa.validation после чистки: 182\n",
      "Взято из delucionqa.validation после чистки: 27\n"
     ]
    },
    {
     "name": "stderr",
     "output_type": "stream",
     "text": [
      "100%|██████████████████████████████████████████████████████████████████████████████████████████████████████████████████████████████████████████████████████████████████████████████████████████████████████████████| 4/4 [03:58<00:00, 59.61s/it]\n",
      "100%|██████████████████████████████████████████████████████████████████████████████████████████████████████████████████████████████████████████████████████████████████████████████████████████████████████████| 27/27 [00:00<00:00, 6938.68it/s]\n"
     ]
    },
    {
     "name": "stdout",
     "output_type": "stream",
     "text": [
      "Успешно распарсено в delucionqa.validation: 24\n",
      "Ошибочных ответов в delucionqa.validation: 3\n",
      "Датасет delucionqa.test: 184\n",
      "Датасет delucionqa.test после чистки: 184 на пусто\n",
      "Датасет delucionqa.test после чистки: 184 на max_tokens\n",
      "Датасет delucionqa.test после чистки: 184\n",
      "Взято из delucionqa.test после чистки: 27\n"
     ]
    },
    {
     "name": "stderr",
     "output_type": "stream",
     "text": [
      "100%|██████████████████████████████████████████████████████████████████████████████████████████████████████████████████████████████████████████████████████████████████████████████████████████████████████████████| 4/4 [03:37<00:00, 54.35s/it]\n",
      "100%|██████████████████████████████████████████████████████████████████████████████████████████████████████████████████████████████████████████████████████████████████████████████████████████████████████████| 27/27 [00:00<00:00, 6990.51it/s]\n"
     ]
    },
    {
     "name": "stdout",
     "output_type": "stream",
     "text": [
      "Успешно распарсено в delucionqa.test: 23\n",
      "Ошибочных ответов в delucionqa.test: 4\n",
      "Датасет emanual.train: 1054\n",
      "Датасет emanual.train после чистки: 1054 на пусто\n",
      "Датасет emanual.train после чистки: 1054 на max_tokens\n",
      "Датасет emanual.train после чистки: 1054\n",
      "Взято из emanual.train после чистки: 158\n"
     ]
    },
    {
     "name": "stderr",
     "output_type": "stream",
     "text": [
      "100%|████████████████████████████████████████████████████████████████████████████████████████████████████████████████████████████████████████████████████████████████████████████████████████████████████████████| 20/20 [19:54<00:00, 59.72s/it]\n",
      "100%|████████████████████████████████████████████████████████████████████████████████████████████████████████████████████████████████████████████████████████████████████████████████████████████████████████| 158/158 [00:00<00:00, 6913.42it/s]\n"
     ]
    },
    {
     "name": "stdout",
     "output_type": "stream",
     "text": [
      "Успешно распарсено в emanual.train: 139\n",
      "Ошибочных ответов в emanual.train: 19\n",
      "Датасет emanual.validation: 132\n",
      "Датасет emanual.validation после чистки: 132 на пусто\n",
      "Датасет emanual.validation после чистки: 132 на max_tokens\n",
      "Датасет emanual.validation после чистки: 132\n",
      "Взято из emanual.validation после чистки: 19\n"
     ]
    },
    {
     "name": "stderr",
     "output_type": "stream",
     "text": [
      "100%|██████████████████████████████████████████████████████████████████████████████████████████████████████████████████████████████████████████████████████████████████████████████████████████████████████████████| 3/3 [02:59<00:00, 59.79s/it]\n",
      "100%|██████████████████████████████████████████████████████████████████████████████████████████████████████████████████████████████████████████████████████████████████████████████████████████████████████████| 19/19 [00:00<00:00, 5876.54it/s]\n"
     ]
    },
    {
     "name": "stdout",
     "output_type": "stream",
     "text": [
      "Успешно распарсено в emanual.validation: 15\n",
      "Ошибочных ответов в emanual.validation: 4\n",
      "Датасет emanual.test: 132\n",
      "Датасет emanual.test после чистки: 132 на пусто\n",
      "Датасет emanual.test после чистки: 132 на max_tokens\n",
      "Датасет emanual.test после чистки: 132\n",
      "Взято из emanual.test после чистки: 19\n"
     ]
    },
    {
     "name": "stderr",
     "output_type": "stream",
     "text": [
      "100%|██████████████████████████████████████████████████████████████████████████████████████████████████████████████████████████████████████████████████████████████████████████████████████████████████████████████| 3/3 [03:01<00:00, 60.45s/it]\n",
      "100%|██████████████████████████████████████████████████████████████████████████████████████████████████████████████████████████████████████████████████████████████████████████████████████████████████████████| 19/19 [00:00<00:00, 5433.41it/s]\n"
     ]
    },
    {
     "name": "stdout",
     "output_type": "stream",
     "text": [
      "Успешно распарсено в emanual.test: 14\n",
      "Ошибочных ответов в emanual.test: 5\n",
      "Датасет expertqa.train: 1621\n",
      "Датасет expertqa.train после чистки: 1621 на пусто\n",
      "Датасет expertqa.train после чистки: 1462 на max_tokens\n",
      "Датасет expertqa.train после чистки: 1462\n",
      "Взято из expertqa.train после чистки: 219\n"
     ]
    },
    {
     "name": "stderr",
     "output_type": "stream",
     "text": [
      "100%|████████████████████████████████████████████████████████████████████████████████████████████████████████████████████████████████████████████████████████████████████████████████████████████████████████████| 28/28 [35:44<00:00, 76.60s/it]\n",
      "100%|████████████████████████████████████████████████████████████████████████████████████████████████████████████████████████████████████████████████████████████████████████████████████████████████████████| 219/219 [00:00<00:00, 5298.37it/s]\n"
     ]
    },
    {
     "name": "stdout",
     "output_type": "stream",
     "text": [
      "Успешно распарсено в expertqa.train: 156\n",
      "Ошибочных ответов в expertqa.train: 63\n",
      "Датасет expertqa.validation: 203\n",
      "Датасет expertqa.validation после чистки: 203 на пусто\n",
      "Датасет expertqa.validation после чистки: 190 на max_tokens\n",
      "Датасет expertqa.validation после чистки: 190\n",
      "Взято из expertqa.validation после чистки: 28\n"
     ]
    },
    {
     "name": "stderr",
     "output_type": "stream",
     "text": [
      "100%|██████████████████████████████████████████████████████████████████████████████████████████████████████████████████████████████████████████████████████████████████████████████████████████████████████████████| 4/4 [04:24<00:00, 66.12s/it]\n",
      "100%|██████████████████████████████████████████████████████████████████████████████████████████████████████████████████████████████████████████████████████████████████████████████████████████████████████████| 28/28 [00:00<00:00, 5296.08it/s]\n"
     ]
    },
    {
     "name": "stdout",
     "output_type": "stream",
     "text": [
      "Успешно распарсено в expertqa.validation: 22\n",
      "Ошибочных ответов в expertqa.validation: 6\n",
      "Датасет expertqa.test: 203\n",
      "Датасет expertqa.test после чистки: 203 на пусто\n",
      "Датасет expertqa.test после чистки: 183 на max_tokens\n",
      "Датасет expertqa.test после чистки: 183\n",
      "Взято из expertqa.test после чистки: 27\n"
     ]
    },
    {
     "name": "stderr",
     "output_type": "stream",
     "text": [
      "100%|██████████████████████████████████████████████████████████████████████████████████████████████████████████████████████████████████████████████████████████████████████████████████████████████████████████████| 4/4 [04:46<00:00, 71.62s/it]\n",
      "100%|██████████████████████████████████████████████████████████████████████████████████████████████████████████████████████████████████████████████████████████████████████████████████████████████████████████| 27/27 [00:00<00:00, 4882.78it/s]\n"
     ]
    },
    {
     "name": "stdout",
     "output_type": "stream",
     "text": [
      "Успешно распарсено в expertqa.test: 19\n",
      "Ошибочных ответов в expertqa.test: 8\n",
      "Датасет finqa.train: 12502\n",
      "Датасет finqa.train после чистки: 12502 на пусто\n",
      "Датасет finqa.train после чистки: 12502 на max_tokens\n",
      "Датасет finqa.train после чистки: 12502\n",
      "Взято из finqa.train после чистки: 1875\n"
     ]
    },
    {
     "name": "stderr",
     "output_type": "stream",
     "text": [
      "100%|████████████████████████████████████████████████████████████████████████████████████████████████████████████████████████████████████████████████████████████████████████████████████████████████████████| 235/235 [3:21:17<00:00, 51.39s/it]\n",
      "100%|██████████████████████████████████████████████████████████████████████████████████████████████████████████████████████████████████████████████████████████████████████████████████████████████████████| 1875/1875 [00:00<00:00, 9594.11it/s]\n"
     ]
    },
    {
     "name": "stdout",
     "output_type": "stream",
     "text": [
      "Успешно распарсено в finqa.train: 1862\n",
      "Ошибочных ответов в finqa.train: 13\n",
      "Датасет finqa.validation: 1766\n",
      "Датасет finqa.validation после чистки: 1766 на пусто\n",
      "Датасет finqa.validation после чистки: 1766 на max_tokens\n",
      "Датасет finqa.validation после чистки: 1766\n",
      "Взято из finqa.validation после чистки: 264\n"
     ]
    },
    {
     "name": "stderr",
     "output_type": "stream",
     "text": [
      "100%|████████████████████████████████████████████████████████████████████████████████████████████████████████████████████████████████████████████████████████████████████████████████████████████████████████████| 33/33 [27:41<00:00, 50.35s/it]\n",
      "100%|████████████████████████████████████████████████████████████████████████████████████████████████████████████████████████████████████████████████████████████████████████████████████████████████████████| 264/264 [00:00<00:00, 9567.43it/s]\n"
     ]
    },
    {
     "name": "stdout",
     "output_type": "stream",
     "text": [
      "Успешно распарсено в finqa.validation: 262\n",
      "Ошибочных ответов в finqa.validation: 2\n",
      "Датасет finqa.test: 2294\n",
      "Датасет finqa.test после чистки: 2294 на пусто\n",
      "Датасет finqa.test после чистки: 2294 на max_tokens\n",
      "Датасет finqa.test после чистки: 2294\n",
      "Взято из finqa.test после чистки: 344\n"
     ]
    },
    {
     "name": "stderr",
     "output_type": "stream",
     "text": [
      "100%|████████████████████████████████████████████████████████████████████████████████████████████████████████████████████████████████████████████████████████████████████████████████████████████████████████████| 43/43 [36:48<00:00, 51.37s/it]\n",
      "100%|████████████████████████████████████████████████████████████████████████████████████████████████████████████████████████████████████████████████████████████████████████████████████████████████████████| 344/344 [00:00<00:00, 9314.12it/s]\n"
     ]
    },
    {
     "name": "stdout",
     "output_type": "stream",
     "text": [
      "Успешно распарсено в finqa.test: 341\n",
      "Ошибочных ответов в finqa.test: 3\n",
      "Датасет hagrid.train: 2892\n",
      "Датасет hagrid.train после чистки: 2892 на пусто\n",
      "Датасет hagrid.train после чистки: 2892 на max_tokens\n",
      "Датасет hagrid.train после чистки: 2892\n",
      "Взято из hagrid.train после чистки: 433\n"
     ]
    },
    {
     "name": "stderr",
     "output_type": "stream",
     "text": [
      "100%|████████████████████████████████████████████████████████████████████████████████████████████████████████████████████████████████████████████████████████████████████████████████████████████████████████████| 55/55 [40:10<00:00, 43.83s/it]\n",
      "100%|███████████████████████████████████████████████████████████████████████████████████████████████████████████████████████████████████████████████████████████████████████████████████████████████████████| 433/433 [00:00<00:00, 12253.12it/s]\n"
     ]
    },
    {
     "name": "stdout",
     "output_type": "stream",
     "text": [
      "Успешно распарсено в hagrid.train: 428\n",
      "Ошибочных ответов в hagrid.train: 5\n",
      "Датасет hagrid.validation: 322\n",
      "Датасет hagrid.validation после чистки: 322 на пусто\n",
      "Датасет hagrid.validation после чистки: 322 на max_tokens\n",
      "Датасет hagrid.validation после чистки: 322\n",
      "Взято из hagrid.validation после чистки: 48\n"
     ]
    },
    {
     "name": "stderr",
     "output_type": "stream",
     "text": [
      "100%|██████████████████████████████████████████████████████████████████████████████████████████████████████████████████████████████████████████████████████████████████████████████████████████████████████████████| 6/6 [04:35<00:00, 45.93s/it]\n",
      "100%|█████████████████████████████████████████████████████████████████████████████████████████████████████████████████████████████████████████████████████████████████████████████████████████████████████████| 48/48 [00:00<00:00, 12699.59it/s]\n"
     ]
    },
    {
     "name": "stdout",
     "output_type": "stream",
     "text": [
      "Успешно распарсено в hagrid.validation: 48\n",
      "Ошибочных ответов в hagrid.validation: 0\n",
      "Датасет hagrid.test: 1318\n",
      "Датасет hagrid.test после чистки: 1318 на пусто\n",
      "Датасет hagrid.test после чистки: 1318 на max_tokens\n",
      "Датасет hagrid.test после чистки: 1318\n",
      "Взято из hagrid.test после чистки: 197\n"
     ]
    },
    {
     "name": "stderr",
     "output_type": "stream",
     "text": [
      "100%|████████████████████████████████████████████████████████████████████████████████████████████████████████████████████████████████████████████████████████████████████████████████████████████████████████████| 25/25 [20:16<00:00, 48.67s/it]\n",
      "100%|███████████████████████████████████████████████████████████████████████████████████████████████████████████████████████████████████████████████████████████████████████████████████████████████████████| 197/197 [00:00<00:00, 11074.48it/s]\n"
     ]
    },
    {
     "name": "stdout",
     "output_type": "stream",
     "text": [
      "Успешно распарсено в hagrid.test: 191\n",
      "Ошибочных ответов в hagrid.test: 6\n",
      "Датасет hotpotqa.train: 1883\n",
      "Датасет hotpotqa.train после чистки: 1883 на пусто\n",
      "Датасет hotpotqa.train после чистки: 1883 на max_tokens\n",
      "Датасет hotpotqa.train после чистки: 1883\n",
      "Взято из hotpotqa.train после чистки: 282\n"
     ]
    },
    {
     "name": "stderr",
     "output_type": "stream",
     "text": [
      "100%|████████████████████████████████████████████████████████████████████████████████████████████████████████████████████████████████████████████████████████████████████████████████████████████████████████████| 36/36 [18:51<00:00, 31.43s/it]\n",
      "100%|███████████████████████████████████████████████████████████████████████████████████████████████████████████████████████████████████████████████████████████████████████████████████████████████████████| 282/282 [00:00<00:00, 15461.96it/s]\n"
     ]
    },
    {
     "name": "stdout",
     "output_type": "stream",
     "text": [
      "Успешно распарсено в hotpotqa.train: 282\n",
      "Ошибочных ответов в hotpotqa.train: 0\n",
      "Датасет hotpotqa.validation: 424\n",
      "Датасет hotpotqa.validation после чистки: 424 на пусто\n",
      "Датасет hotpotqa.validation после чистки: 424 на max_tokens\n",
      "Датасет hotpotqa.validation после чистки: 424\n",
      "Взято из hotpotqa.validation после чистки: 63\n"
     ]
    },
    {
     "name": "stderr",
     "output_type": "stream",
     "text": [
      "100%|██████████████████████████████████████████████████████████████████████████████████████████████████████████████████████████████████████████████████████████████████████████████████████████████████████████████| 8/8 [04:06<00:00, 30.83s/it]\n",
      "100%|█████████████████████████████████████████████████████████████████████████████████████████████████████████████████████████████████████████████████████████████████████████████████████████████████████████| 63/63 [00:00<00:00, 15843.70it/s]\n"
     ]
    },
    {
     "name": "stdout",
     "output_type": "stream",
     "text": [
      "Успешно распарсено в hotpotqa.validation: 63\n",
      "Ошибочных ответов в hotpotqa.validation: 0\n",
      "Датасет hotpotqa.test: 390\n",
      "Датасет hotpotqa.test после чистки: 390 на пусто\n",
      "Датасет hotpotqa.test после чистки: 390 на max_tokens\n",
      "Датасет hotpotqa.test после чистки: 390\n",
      "Взято из hotpotqa.test после чистки: 58\n"
     ]
    },
    {
     "name": "stderr",
     "output_type": "stream",
     "text": [
      "100%|██████████████████████████████████████████████████████████████████████████████████████████████████████████████████████████████████████████████████████████████████████████████████████████████████████████████| 8/8 [04:01<00:00, 30.20s/it]\n",
      "100%|█████████████████████████████████████████████████████████████████████████████████████████████████████████████████████████████████████████████████████████████████████████████████████████████████████████| 58/58 [00:00<00:00, 15626.26it/s]\n"
     ]
    },
    {
     "name": "stdout",
     "output_type": "stream",
     "text": [
      "Успешно распарсено в hotpotqa.test: 58\n",
      "Ошибочных ответов в hotpotqa.test: 0\n",
      "Датасет msmarco.train: 1870\n",
      "Датасет msmarco.train после чистки: 1870 на пусто\n",
      "Датасет msmarco.train после чистки: 1870 на max_tokens\n",
      "Датасет msmarco.train после чистки: 1870\n",
      "Взято из msmarco.train после чистки: 280\n"
     ]
    },
    {
     "name": "stderr",
     "output_type": "stream",
     "text": [
      "100%|████████████████████████████████████████████████████████████████████████████████████████████████████████████████████████████████████████████████████████████████████████████████████████████████████████████| 35/35 [39:24<00:00, 67.56s/it]\n",
      "100%|████████████████████████████████████████████████████████████████████████████████████████████████████████████████████████████████████████████████████████████████████████████████████████████████████████| 280/280 [00:00<00:00, 7980.57it/s]\n"
     ]
    },
    {
     "name": "stdout",
     "output_type": "stream",
     "text": [
      "Успешно распарсено в msmarco.train: 262\n",
      "Ошибочных ответов в msmarco.train: 18\n",
      "Датасет msmarco.validation: 397\n",
      "Датасет msmarco.validation после чистки: 397 на пусто\n",
      "Датасет msmarco.validation после чистки: 397 на max_tokens\n",
      "Датасет msmarco.validation после чистки: 397\n",
      "Взято из msmarco.validation после чистки: 59\n"
     ]
    },
    {
     "name": "stderr",
     "output_type": "stream",
     "text": [
      "100%|██████████████████████████████████████████████████████████████████████████████████████████████████████████████████████████████████████████████████████████████████████████████████████████████████████████████| 8/8 [07:48<00:00, 58.50s/it]\n",
      "100%|██████████████████████████████████████████████████████████████████████████████████████████████████████████████████████████████████████████████████████████████████████████████████████████████████████████| 59/59 [00:00<00:00, 7640.37it/s]\n"
     ]
    },
    {
     "name": "stdout",
     "output_type": "stream",
     "text": [
      "Успешно распарсено в msmarco.validation: 54\n",
      "Ошибочных ответов в msmarco.validation: 5\n",
      "Датасет msmarco.test: 423\n",
      "Датасет msmarco.test после чистки: 423 на пусто\n",
      "Датасет msmarco.test после чистки: 423 на max_tokens\n",
      "Датасет msmarco.test после чистки: 423\n",
      "Взято из msmarco.test после чистки: 63\n"
     ]
    },
    {
     "name": "stderr",
     "output_type": "stream",
     "text": [
      "100%|█████████████████████████████████████████████████████████████████████████████████████████████████████████████████████████████████████████████████████████████████████████████████████████████████████████████| 8/8 [14:23<00:00, 107.95s/it]\n",
      "100%|██████████████████████████████████████████████████████████████████████████████████████████████████████████████████████████████████████████████████████████████████████████████████████████████████████████| 63/63 [00:00<00:00, 8779.36it/s]\n"
     ]
    },
    {
     "name": "stdout",
     "output_type": "stream",
     "text": [
      "Успешно распарсено в msmarco.test: 60\n",
      "Ошибочных ответов в msmarco.test: 3\n",
      "Датасет pubmedqa.train: 19600\n",
      "Датасет pubmedqa.train после чистки: 19600 на пусто\n",
      "Датасет pubmedqa.train после чистки: 19600 на max_tokens\n",
      "Датасет pubmedqa.train после чистки: 19600\n",
      "Взято из pubmedqa.train после чистки: 2940\n"
     ]
    },
    {
     "name": "stderr",
     "output_type": "stream",
     "text": [
      " 61%|████████████████████████████████████████████████████████████████████████████████████████████████████████████████████████▍                                                                            | 225/368 [5:39:08<6:36:27, 166.34s/it]"
     ]
    }
   ],
   "source": [
    "results, aggregated_metrics, bad = await run_evaluation(article_prompt, client, model_id, tokenizer, sample_percent=15)"
   ]
  },
  {
   "cell_type": "code",
   "execution_count": null,
   "id": "735ff5b8",
   "metadata": {},
   "outputs": [],
   "source": [
    "results, aggregated_metrics, bad"
   ]
  },
  {
   "cell_type": "code",
   "execution_count": null,
   "id": "972f3692",
   "metadata": {},
   "outputs": [],
   "source": [
    ", sample_percent=15\n",
    "{'total_relevant_overlap_mean': 0.7021666381053938,\n",
    " 'total_relevant_miss_mean': 1.0547178665412893,\n",
    " 'total_relevant_extra_mean': 4.086859309618731,\n",
    " 'total_utilized_overlap_mean': 0.8300857965095031,\n",
    " 'total_utilized_miss_mean': 0.48416035555728093,\n",
    " 'total_utilized_extra_mean': 2.232610781851467}\n",
    "\n",
    "{'covidqa': {'train': {'llm_error': 0,\n",
    "   'token_len_error': 0,\n",
    "   'dataset_error': 0},\n",
    "  'validation': {'llm_error': 0, 'token_len_error': 0, 'dataset_error': 0},\n",
    "  'test': {'llm_error': 0, 'token_len_error': 0, 'dataset_error': 0}},\n",
    " 'cuad': {'train': {'llm_error': 33,\n",
    "   'token_len_error': 0,\n",
    "   'dataset_error': 853},\n",
    "  'validation': {'llm_error': 14, 'token_len_error': 0, 'dataset_error': 285},\n",
    "  'test': {'llm_error': 11, 'token_len_error': 0, 'dataset_error': 240}}}\n",
    "\n",
    "\n",
    "{'covidqa': {'train': {'relevant_overlap_mean': 0.7495278252906438,\n",
    "   'relevant_miss_mean': 1.2887700534759359,\n",
    "   'relevant_extra_mean': 1.8021390374331552,\n",
    "   'utilized_overlap_mean': 0.8506616378274132,\n",
    "   'utilized_miss_mean': 0.4919786096256685,\n",
    "   'utilized_extra_mean': 0.8663101604278075},\n",
    "  'validation': {'relevant_overlap_mean': 0.7767592130092129,\n",
    "   'relevant_miss_mean': 1.45,\n",
    "   'relevant_extra_mean': 1.425,\n",
    "   'utilized_overlap_mean': 0.8822222222222222,\n",
    "   'utilized_miss_mean': 0.5,\n",
    "   'utilized_extra_mean': 0.725},\n",
    "  'test': {'relevant_overlap_mean': 0.7715885965885966,\n",
    "   'relevant_miss_mean': 1.2777777777777777,\n",
    "   'relevant_extra_mean': 1.9722222222222223,\n",
    "   'utilized_overlap_mean': 0.8717813051146385,\n",
    "   'utilized_miss_mean': 0.4166666666666667,\n",
    "   'utilized_extra_mean': 1.3055555555555556}},\n",
    " 'cuad': {'train': {'relevant_overlap_mean': 0.7615024441149008,\n",
    "   'relevant_miss_mean': 0.39705882352941174,\n",
    "   'relevant_extra_mean': 6.044117647058823,\n",
    "   'utilized_overlap_mean': 0.7781862745098039,\n",
    "   'utilized_miss_mean': 0.35294117647058826,\n",
    "   'utilized_extra_mean': 2.6911764705882355},\n",
    "  'validation': {'relevant_overlap_mean': 0.45906432748538006,\n",
    "   'relevant_miss_mean': 1.0526315789473684,\n",
    "   'relevant_extra_mean': 7.105263157894737,\n",
    "   'utilized_overlap_mean': 0.7894736842105263,\n",
    "   'utilized_miss_mean': 0.3157894736842105,\n",
    "   'utilized_extra_mean': 2.8421052631578947},\n",
    "  'test': {'relevant_overlap_mean': 0.694557422143629,\n",
    "   'relevant_miss_mean': 0.8620689655172413,\n",
    "   'relevant_extra_mean': 6.172413793103448,\n",
    "   'utilized_overlap_mean': 0.8081896551724138,\n",
    "   'utilized_miss_mean': 0.8275862068965517,\n",
    "   'utilized_extra_mean': 4.9655172413793105}}}"
   ]
  },
  {
   "cell_type": "code",
   "execution_count": null,
   "id": "fe7c6d03",
   "metadata": {},
   "outputs": [],
   "source": []
  },
  {
   "cell_type": "code",
   "execution_count": null,
   "id": "b1009447",
   "metadata": {},
   "outputs": [],
   "source": [
    "Датасет covidqa.train: 1252\n",
    "Датасет covidqa.train после чистки: 1252 на пусто\n",
    "Датасет covidqa.train после чистки: 1252 на max_tokens\n",
    "Датасет covidqa.train после чистки: 1252\n",
    "Взято из covidqa.train после чистки: 187\n",
    "100%|████████████████████████████████████████████████████████████████████████████████████████████████████████████████████████████████████████████████████████████████████████████████████████████████████████████| 24/24 [18:51<00:00, 47.13s/it]\n",
    "100%|███████████████████████████████████████████████████████████████████████████████████████████████████████████████████████████████████████████████████████████████████████████████████████████████████████| 187/187 [00:00<00:00, 11743.65it/s]\n",
    "Успешно распарсено в covidqa.train: 186\n",
    "Ошибочных ответов в covidqa.train: 1\n",
    "Датасет covidqa.validation: 267\n",
    "Датасет covidqa.validation после чистки: 267 на пусто\n",
    "Датасет covidqa.validation после чистки: 267 на max_tokens\n",
    "Датасет covidqa.validation после чистки: 267\n",
    "Взято из covidqa.validation после чистки: 40\n",
    "100%|██████████████████████████████████████████████████████████████████████████████████████████████████████████████████████████████████████████████████████████████████████████████████████████████████████████████| 5/5 [03:34<00:00, 42.90s/it]\n",
    "100%|█████████████████████████████████████████████████████████████████████████████████████████████████████████████████████████████████████████████████████████████████████████████████████████████████████████| 40/40 [00:00<00:00, 11809.12it/s]\n",
    "Успешно распарсено в covidqa.validation: 40\n",
    "Ошибочных ответов в covidqa.validation: 0\n",
    "Датасет covidqa.test: 246\n",
    "Датасет covidqa.test после чистки: 246 на пусто\n",
    "Датасет covidqa.test после чистки: 246 на max_tokens\n",
    "Датасет covidqa.test после чистки: 246\n",
    "Взято из covidqa.test после чистки: 36\n",
    "100%|██████████████████████████████████████████████████████████████████████████████████████████████████████████████████████████████████████████████████████████████████████████████████████████████████████████████| 5/5 [03:49<00:00, 45.89s/it]\n",
    "100%|█████████████████████████████████████████████████████████████████████████████████████████████████████████████████████████████████████████████████████████████████████████████████████████████████████████| 36/36 [00:00<00:00, 11368.39it/s]\n",
    "Успешно распарсено в covidqa.test: 36\n",
    "Ошибочных ответов в covidqa.test: 0\n",
    "Датасет cuad.train: 1530\n",
    "Датасет cuad.train после чистки: 1530 на пусто\n",
    "Датасет cuad.train после чистки: 677 на max_tokens\n",
    "Датасет cuad.train после чистки: 677\n",
    "Взято из cuad.train после чистки: 101\n",
    "100%|███████████████████████████████████████████████████████████████████████████████████████████████████████████████████████████████████████████████████████████████████████████████████████████████████████████| 13/13 [24:14<00:00, 111.88s/it]\n",
    "100%|████████████████████████████████████████████████████████████████████████████████████████████████████████████████████████████████████████████████████████████████████████████████████████████████████████| 101/101 [00:00<00:00, 5589.38it/s]\n",
    "Успешно распарсено в cuad.train: 78\n",
    "Ошибочных ответов в cuad.train: 23\n",
    "Датасет cuad.validation: 510\n",
    "Датасет cuad.validation после чистки: 510 на пусто\n",
    "Датасет cuad.validation после чистки: 225 на max_tokens\n",
    "Датасет cuad.validation после чистки: 225\n",
    "Взято из cuad.validation после чистки: 33\n",
    "100%|██████████████████████████████████████████████████████████████████████████████████████████████████████████████████████████████████████████████████████████████████████████████████████████████████████████████| 5/5 [07:25<00:00, 89.15s/it]\n",
    "100%|██████████████████████████████████████████████████████████████████████████████████████████████████████████████████████████████████████████████████████████████████████████████████████████████████████████| 33/33 [00:00<00:00, 5911.76it/s]\n",
    "Успешно распарсено в cuad.validation: 25\n",
    "Ошибочных ответов в cuad.validation: 8\n",
    "Датасет cuad.test: 510\n",
    "Датасет cuad.test после чистки: 510 на пусто\n",
    "Датасет cuad.test после чистки: 270 на max_tokens\n",
    "Датасет cuad.test после чистки: 270\n",
    "Взято из cuad.test после чистки: 40\n",
    "100%|██████████████████████████████████████████████████████████████████████████████████████████████████████████████████████████████████████████████████████████████████████████████████████████████████████████████| 5/5 [08:13<00:00, 98.79s/it]\n",
    "100%|██████████████████████████████████████████████████████████████████████████████████████████████████████████████████████████████████████████████████████████████████████████████████████████████████████████| 40/40 [00:00<00:00, 6705.52it/s]\n",
    "Успешно распарсено в cuad.test: 35\n",
    "Ошибочных ответов в cuad.test: 5\n",
    "Датасет delucionqa.train: 1460\n",
    "Датасет delucionqa.train после чистки: 1458 на пусто\n",
    "Датасет delucionqa.train после чистки: 1458 на max_tokens\n",
    "Датасет delucionqa.train после чистки: 1458\n",
    "Взято из delucionqa.train после чистки: 218\n",
    "100%|████████████████████████████████████████████████████████████████████████████████████████████████████████████████████████████████████████████████████████████████████████████████████████████████████████████| 28/28 [28:22<00:00, 60.80s/it]\n",
    "100%|████████████████████████████████████████████████████████████████████████████████████████████████████████████████████████████████████████████████████████████████████████████████████████████████████████| 218/218 [00:00<00:00, 6380.99it/s]\n",
    "Успешно распарсено в delucionqa.train: 182\n",
    "Ошибочных ответов в delucionqa.train: 36\n",
    "Датасет delucionqa.validation: 182\n",
    "Датасет delucionqa.validation после чистки: 182 на пусто\n",
    "Датасет delucionqa.validation после чистки: 182 на max_tokens\n",
    "Датасет delucionqa.validation после чистки: 182\n",
    "Взято из delucionqa.validation после чистки: 27\n",
    "100%|██████████████████████████████████████████████████████████████████████████████████████████████████████████████████████████████████████████████████████████████████████████████████████████████████████████████| 4/4 [03:53<00:00, 58.36s/it]\n",
    "100%|██████████████████████████████████████████████████████████████████████████████████████████████████████████████████████████████████████████████████████████████████████████████████████████████████████████| 27/27 [00:00<00:00, 6380.79it/s]\n",
    "Успешно распарсено в delucionqa.validation: 23\n",
    "Ошибочных ответов в delucionqa.validation: 4\n",
    "Датасет delucionqa.test: 184\n",
    "Датасет delucionqa.test после чистки: 184 на пусто\n",
    "Датасет delucionqa.test после чистки: 184 на max_tokens\n",
    "Датасет delucionqa.test после чистки: 184\n",
    "Взято из delucionqa.test после чистки: 27\n",
    "100%|██████████████████████████████████████████████████████████████████████████████████████████████████████████████████████████████████████████████████████████████████████████████████████████████████████████████| 4/4 [03:44<00:00, 56.11s/it]\n",
    "100%|██████████████████████████████████████████████████████████████████████████████████████████████████████████████████████████████████████████████████████████████████████████████████████████████████████████| 27/27 [00:00<00:00, 7685.52it/s]\n",
    "Успешно распарсено в delucionqa.test: 24\n",
    "Ошибочных ответов в delucionqa.test: 3\n",
    "Датасет emanual.train: 1054\n",
    "Датасет emanual.train после чистки: 1054 на пусто\n",
    "Датасет emanual.train после чистки: 1054 на max_tokens\n",
    "Датасет emanual.train после чистки: 1054\n",
    "Взято из emanual.train после чистки: 158\n",
    "100%|████████████████████████████████████████████████████████████████████████████████████████████████████████████████████████████████████████████████████████████████████████████████████████████████████████████| 20/20 [18:58<00:00, 56.91s/it]\n",
    "100%|████████████████████████████████████████████████████████████████████████████████████████████████████████████████████████████████████████████████████████████████████████████████████████████████████████| 158/158 [00:00<00:00, 7325.81it/s]\n",
    "Успешно распарсено в emanual.train: 142\n",
    "Ошибочных ответов в emanual.train: 16\n",
    "Датасет emanual.validation: 132\n",
    "Датасет emanual.validation после чистки: 132 на пусто\n",
    "Датасет emanual.validation после чистки: 132 на max_tokens\n",
    "Датасет emanual.validation после чистки: 132\n",
    "Взято из emanual.validation после чистки: 19\n",
    "100%|██████████████████████████████████████████████████████████████████████████████████████████████████████████████████████████████████████████████████████████████████████████████████████████████████████████████| 3/3 [02:24<00:00, 48.09s/it]\n",
    "100%|██████████████████████████████████████████████████████████████████████████████████████████████████████████████████████████████████████████████████████████████████████████████████████████████████████████| 19/19 [00:00<00:00, 7434.63it/s]\n",
    "Успешно распарсено в emanual.validation: 18\n",
    "Ошибочных ответов в emanual.validation: 1\n",
    "Датасет emanual.test: 132\n",
    "Датасет emanual.test после чистки: 132 на пусто\n",
    "Датасет emanual.test после чистки: 132 на max_tokens\n",
    "Датасет emanual.test после чистки: 132\n",
    "Взято из emanual.test после чистки: 19\n",
    "100%|██████████████████████████████████████████████████████████████████████████████████████████████████████████████████████████████████████████████████████████████████████████████████████████████████████████████| 3/3 [02:47<00:00, 55.77s/it]\n",
    "100%|██████████████████████████████████████████████████████████████████████████████████████████████████████████████████████████████████████████████████████████████████████████████████████████████████████████| 19/19 [00:00<00:00, 6882.44it/s]\n",
    "Успешно распарсено в emanual.test: 18\n",
    "Ошибочных ответов в emanual.test: 1\n",
    "Датасет expertqa.train: 1621\n",
    "Датасет expertqa.train после чистки: 1621 на пусто\n",
    "Датасет expertqa.train после чистки: 1462 на max_tokens\n",
    "Датасет expertqa.train после чистки: 1462\n",
    "Взято из expertqa.train после чистки: 219\n",
    "100%|████████████████████████████████████████████████████████████████████████████████████████████████████████████████████████████████████████████████████████████████████████████████████████████████████████████| 28/28 [38:40<00:00, 82.86s/it]\n",
    "100%|████████████████████████████████████████████████████████████████████████████████████████████████████████████████████████████████████████████████████████████████████████████████████████████████████████| 219/219 [00:00<00:00, 4968.02it/s]\n",
    "Успешно распарсено в expertqa.train: 143\n",
    "Ошибочных ответов в expertqa.train: 76\n",
    "Датасет expertqa.validation: 203\n",
    "Датасет expertqa.validation после чистки: 203 на пусто\n",
    "Датасет expertqa.validation после чистки: 190 на max_tokens\n",
    "Датасет expertqa.validation после чистки: 190\n",
    "Взято из expertqa.validation после чистки: 28\n",
    "100%|██████████████████████████████████████████████████████████████████████████████████████████████████████████████████████████████████████████████████████████████████████████████████████████████████████████████| 4/4 [05:10<00:00, 77.64s/it]\n",
    "100%|██████████████████████████████████████████████████████████████████████████████████████████████████████████████████████████████████████████████████████████████████████████████████████████████████████████| 28/28 [00:00<00:00, 4872.24it/s]\n",
    "Успешно распарсено в expertqa.validation: 20\n",
    "Ошибочных ответов в expertqa.validation: 8\n",
    "Датасет expertqa.test: 203\n",
    "Датасет expertqa.test после чистки: 203 на пусто\n",
    "Датасет expertqa.test после чистки: 183 на max_tokens\n",
    "Датасет expertqa.test после чистки: 183\n",
    "Взято из expertqa.test после чистки: 27\n",
    "100%|██████████████████████████████████████████████████████████████████████████████████████████████████████████████████████████████████████████████████████████████████████████████████████████████████████████████| 4/4 [05:02<00:00, 75.64s/it]\n",
    "100%|██████████████████████████████████████████████████████████████████████████████████████████████████████████████████████████████████████████████████████████████████████████████████████████████████████████| 27/27 [00:00<00:00, 5770.51it/s]\n",
    "Успешно распарсено в expertqa.test: 20\n",
    "Ошибочных ответов в expertqa.test: 7\n",
    "Датасет finqa.train: 12502\n",
    "Датасет finqa.train после чистки: 12502 на пусто\n",
    "Датасет finqa.train после чистки: 12502 на max_tokens\n",
    "Датасет finqa.train после чистки: 12502\n",
    "Взято из finqa.train после чистки: 1875\n",
    "100%|████████████████████████████████████████████████████████████████████████████████████████████████████████████████████████████████████████████████████████████████████████████████████████████████████████| 235/235 [3:28:42<00:00, 53.29s/it]\n",
    "100%|██████████████████████████████████████████████████████████████████████████████████████████████████████████████████████████████████████████████████████████████████████████████████████████████████████| 1875/1875 [00:00<00:00, 9482.64it/s]\n",
    "Успешно распарсено в finqa.train: 1859\n",
    "Ошибочных ответов в finqa.train: 16\n",
    "Датасет finqa.validation: 1766\n",
    "Датасет finqa.validation после чистки: 1766 на пусто\n",
    "Датасет finqa.validation после чистки: 1766 на max_tokens\n",
    "Датасет finqa.validation после чистки: 1766\n",
    "Взято из finqa.validation после чистки: 264\n",
    "100%|████████████████████████████████████████████████████████████████████████████████████████████████████████████████████████████████████████████████████████████████████████████████████████████████████████████| 33/33 [50:14<00:00, 91.34s/it]\n",
    "100%|████████████████████████████████████████████████████████████████████████████████████████████████████████████████████████████████████████████████████████████████████████████████████████████████████████| 264/264 [00:00<00:00, 9349.40it/s]\n",
    "Успешно распарсено в finqa.validation: 263\n",
    "Ошибочных ответов в finqa.validation: 1\n",
    "Датасет finqa.test: 2294\n",
    "Датасет finqa.test после чистки: 2294 на пусто\n",
    "Датасет finqa.test после чистки: 2294 на max_tokens\n",
    "Датасет finqa.test после чистки: 2294\n",
    "Взято из finqa.test после чистки: 344\n",
    " 93%|████████████████████████████████████████████████████████████"
   ]
  }
 ],
 "metadata": {
  "kernelspec": {
   "display_name": "Python 3 (ipykernel)",
   "language": "python",
   "name": "python3"
  },
  "language_info": {
   "codemirror_mode": {
    "name": "ipython",
    "version": 3
   },
   "file_extension": ".py",
   "mimetype": "text/x-python",
   "name": "python",
   "nbconvert_exporter": "python",
   "pygments_lexer": "ipython3",
   "version": "3.10.12"
  }
 },
 "nbformat": 4,
 "nbformat_minor": 5
}
