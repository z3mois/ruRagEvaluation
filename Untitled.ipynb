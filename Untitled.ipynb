{
 "cells": [
  {
   "cell_type": "code",
   "execution_count": 1,
   "id": "5702349b",
   "metadata": {},
   "outputs": [
    {
     "name": "stderr",
     "output_type": "stream",
     "text": [
      "/usr/local/lib/python3.10/dist-packages/tqdm/auto.py:21: TqdmWarning: IProgress not found. Please update jupyter and ipywidgets. See https://ipywidgets.readthedocs.io/en/stable/user_install.html\n",
      "  from .autonotebook import tqdm as notebook_tqdm\n"
     ]
    }
   ],
   "source": [
    "from promt_test.scoring import run_evaluation"
   ]
  },
  {
   "cell_type": "code",
   "execution_count": 2,
   "id": "3289feea",
   "metadata": {},
   "outputs": [],
   "source": [
    "article_prompt = '''\n",
    "I asked someone to answer a question based on one or more documents.\n",
    "Your task is to review their response and assess whether or not each sentence\n",
    "in that response is supported by text in the documents. And if so, which\n",
    "sentences in the documents provide that support. You will also tell me which\n",
    "of the documents contain useful information for answering the question, and\n",
    "which of the documents the answer was sourced from.\n",
    "Here are the documents, each of which is split into sentences. Alongside each\n",
    "sentence is associated key, such as ’0a.’ or ’0b.’ that you can use to refer\n",
    "to it:\n",
    "‘‘‘\n",
    "{documents}\n",
    "‘‘‘\n",
    "The question was:\n",
    "‘‘‘\n",
    "{question}\n",
    "‘‘‘\n",
    "Here is their response, split into sentences. Alongside each sentence is\n",
    "associated key, such as ’a.’ or ’b.’ that you can use to refer to it. Note\n",
    "that these keys are unique to the response, and are not related to the keys\n",
    "in the documents:\n",
    "‘‘‘\n",
    "{answer}\n",
    "‘‘‘\n",
    "You must respond with a JSON object matching this schema:\n",
    "‘‘‘\n",
    "{{\n",
    "\"relevance_explanation\": string,\n",
    "\"all_relevant_sentence_keys\": [string],\n",
    "\"overall_supported_explanation\": string,\n",
    "\"overall_supported\": boolean,\n",
    "\"sentence_support_information\": [\n",
    "{{\n",
    "\"response_sentence_key\": string,\n",
    "\"explanation\": string,\n",
    "\"supporting_sentence_keys\": [string],\n",
    "\"fully_supported\": boolean\n",
    "}},\n",
    "],\n",
    "\"all_utilized_sentence_keys\": [string]\n",
    "}}\n",
    "‘‘‘\n",
    "The relevance_explanation field is a string explaining which documents\n",
    "contain useful information for answering the question. Provide a step-by-step\n",
    "breakdown of information provided in the documents and how it is useful for\n",
    "answering the question.\n",
    "The all_relevant_sentence_keys field is a list of all document sentences keys\n",
    "(e.g. ’0a’) that are revant to the question. Include every sentence that is\n",
    "useful and relevant to the question, even if it was not used in the response,\n",
    "or if only parts of the sentence are useful. Ignore the provided response when\n",
    "making this judgement and base your judgement solely on the provided documents\n",
    "and question. Omit sentences that, if removed from the document, would not\n",
    "impact someone’s ability to answer the question.\n",
    "The overall_supported_explanation field is a string explaining why the response\n",
    "*as a whole* is or is not supported by the documents. In this field, provide a\n",
    "step-by-step breakdown of the claims made in the response and the support (or\n",
    "lack thereof) for those claims in the documents. Begin by assessing each claim\n",
    "separately, one by one; don’t make any remarks about the response as a whole\n",
    "until you have assessed all the claims in isolation.\n",
    "The overall_supported field is a boolean indicating whether the response as a\n",
    "whole is supported by the documents. This value should reflect the conclusion\n",
    "you drew at the end of your step-by-step breakdown in overall_supported_explanation.\n",
    "In the sentence_support_information field, provide information about the support\n",
    "*for each sentence* in the response.\n",
    "The sentence_support_information field is a list of objects, one for each sentence\n",
    "in the response. Each object MUST have the following fields:\n",
    "- response_sentence_key: a string identifying the sentence in the response.\n",
    "This key is the same as the one used in the response above.\n",
    "- explanation: a string explaining why the sentence is or is not supported by the\n",
    "documents.\n",
    "- supporting_sentence_keys: keys (e.g. ’0a’) of sentences from the documents that\n",
    "support the response sentence. If the sentence is not supported, this list MUST\n",
    "be empty. If the sentence is supported, this list MUST contain one or more keys.\n",
    "In special cases where the sentence is supported, but not by any specific sentence,\n",
    "you can use the string \"supported_without_sentence\" to indicate that the sentence\n",
    "is generally supported by the documents. Consider cases where the sentence is\n",
    "expressing inability to answer the question due to lack of relevant information in\n",
    "the provided contex as \"supported_without_sentence\". In cases where the sentence\n",
    "is making a general statement (e.g. outlining the steps to produce an answer, or\n",
    "summarizing previously stated sentences, or a transition sentence), use the\n",
    "sting \"general\".In cases where the sentence is correctly stating a well-known fact,\n",
    "like a mathematical formula, use the string \"well_known_fact\". In cases where the\n",
    "sentence is performing numerical reasoning (e.g. addition, multiplication), use\n",
    "the string \"numerical_reasoning\".\n",
    "- fully_supported: a boolean indicating whether the sentence is fully supported by\n",
    "the documents.\n",
    "- This value should reflect the conclusion you drew at the end of your step-by-step\n",
    "breakdown in explanation.\n",
    "- If supporting_sentence_keys is an empty list, then fully_supported must be false.\n",
    "- Otherwise, use fully_supported to clarify whether everything in the response\n",
    "sentence is fully supported by the document text indicated in supporting_sentence_keys\n",
    "(fully_supported = true), or whether the sentence is only partially or incompletely\n",
    "supported by that document text (fully_supported = false).\n",
    "The all_utilized_sentence_keys field is a list of all sentences keys (e.g. ’0a’) that\n",
    "were used to construct the answer. Include every sentence that either directly supported\n",
    "the answer, or was implicitly used to construct the answer, even if it was not used\n",
    "in its entirety. Omit sentences that were not used, and could have been removed from\n",
    "the documents without affecting the answer.\n",
    "You must respond with a valid JSON string. Use escapes for quotes, e.g. ‘\\\\\"‘, and\n",
    "newlines, e.g. ‘\\\\n‘. Do not write anything before or after the JSON string. Do not\n",
    "wrap the JSON string in backticks like ``` or ‘‘‘json.\n",
    "As a reminder: your task is to review the response and assess which documents contain\n",
    "useful information pertaining to the question, and how each sentence in the response\n",
    "is supported by the text in the documents.\n",
    "'''"
   ]
  },
  {
   "cell_type": "code",
   "execution_count": 3,
   "id": "0c605400",
   "metadata": {},
   "outputs": [],
   "source": [
    "from transformers import AutoTokenizer\n",
    "MODEL_NAME = \"Qwen/Qwen2.5-72B-Instruct\"\n",
    "tokenizer = AutoTokenizer.from_pretrained(MODEL_NAME)"
   ]
  },
  {
   "cell_type": "code",
   "execution_count": 4,
   "id": "7abb4eab",
   "metadata": {},
   "outputs": [],
   "source": [
    "from openai import AsyncOpenAI\n",
    "client = AsyncOpenAI(api_key='874c364705747e7ab314ceba89c2029c9a72ab2154664c470eb4ce18c2f0acb0', base_url= \"http://10.36.60.52:1234/v1\")\n",
    "model_id = 'qwen2.5-72b'"
   ]
  },
  {
   "cell_type": "code",
   "execution_count": 5,
   "id": "04ea711d",
   "metadata": {},
   "outputs": [],
   "source": [
    "import asyncio"
   ]
  },
  {
   "cell_type": "code",
   "execution_count": null,
   "id": "5b44e683",
   "metadata": {},
   "outputs": [
    {
     "name": "stdout",
     "output_type": "stream",
     "text": [
      "Датасет covidqa.train: 1252\n",
      "Датасет covidqa.train после чистки: 1252 на пусто\n",
      "Датасет covidqa.train после чистки: 1252 на max_tokens\n",
      "Датасет covidqa.train после чистки: 1252\n",
      "Взято из covidqa.train после чистки: 187\n"
     ]
    },
    {
     "name": "stderr",
     "output_type": "stream",
     "text": [
      "100%|████████████████████████████████████████████████████████████████████████████████████████████████████████████████████████████████████████████████████████████████████████████████████████████████████████████| 24/24 [15:39<00:00, 39.14s/it]\n",
      "100%|███████████████████████████████████████████████████████████████████████████████████████████████████████████████████████████████████████████████████████████████████████████████████████████████████████| 187/187 [00:00<00:00, 12834.38it/s]\n"
     ]
    },
    {
     "name": "stdout",
     "output_type": "stream",
     "text": [
      "Успешно распарсено в covidqa.train: 187\n",
      "Ошибочных ответов в covidqa.train: 0\n",
      "Датасет covidqa.validation: 267\n",
      "Датасет covidqa.validation после чистки: 267 на пусто\n",
      "Датасет covidqa.validation после чистки: 267 на max_tokens\n",
      "Датасет covidqa.validation после чистки: 267\n",
      "Взято из covidqa.validation после чистки: 40\n"
     ]
    },
    {
     "name": "stderr",
     "output_type": "stream",
     "text": [
      "100%|██████████████████████████████████████████████████████████████████████████████████████████████████████████████████████████████████████████████████████████████████████████████████████████████████████████████| 5/5 [03:28<00:00, 41.70s/it]\n",
      "100%|█████████████████████████████████████████████████████████████████████████████████████████████████████████████████████████████████████████████████████████████████████████████████████████████████████████| 40/40 [00:00<00:00, 12621.09it/s]\n"
     ]
    },
    {
     "name": "stdout",
     "output_type": "stream",
     "text": [
      "Успешно распарсено в covidqa.validation: 40\n",
      "Ошибочных ответов в covidqa.validation: 0\n",
      "Датасет covidqa.test: 246\n",
      "Датасет covidqa.test после чистки: 246 на пусто\n",
      "Датасет covidqa.test после чистки: 246 на max_tokens\n",
      "Датасет covidqa.test после чистки: 246\n",
      "Взято из covidqa.test после чистки: 36\n"
     ]
    },
    {
     "name": "stderr",
     "output_type": "stream",
     "text": [
      "100%|██████████████████████████████████████████████████████████████████████████████████████████████████████████████████████████████████████████████████████████████████████████████████████████████████████████████| 5/5 [04:05<00:00, 49.10s/it]\n",
      "100%|█████████████████████████████████████████████████████████████████████████████████████████████████████████████████████████████████████████████████████████████████████████████████████████████████████████| 36/36 [00:00<00:00, 11473.78it/s]\n"
     ]
    },
    {
     "name": "stdout",
     "output_type": "stream",
     "text": [
      "Успешно распарсено в covidqa.test: 36\n",
      "Ошибочных ответов в covidqa.test: 0\n",
      "Датасет cuad.train: 1530\n",
      "Датасет cuad.train после чистки: 1530 на пусто\n",
      "Датасет cuad.train после чистки: 677 на max_tokens\n",
      "Датасет cuad.train после чистки: 677\n",
      "Взято из cuad.train после чистки: 101\n"
     ]
    },
    {
     "name": "stderr",
     "output_type": "stream",
     "text": [
      "100%|███████████████████████████████████████████████████████████████████████████████████████████████████████████████████████████████████████████████████████████████████████████████████████████████████████████| 13/13 [25:14<00:00, 116.46s/it]\n",
      "100%|████████████████████████████████████████████████████████████████████████████████████████████████████████████████████████████████████████████████████████████████████████████████████████████████████████| 101/101 [00:00<00:00, 5312.97it/s]\n"
     ]
    },
    {
     "name": "stdout",
     "output_type": "stream",
     "text": [
      "Успешно распарсено в cuad.train: 72\n",
      "Ошибочных ответов в cuad.train: 29\n",
      "Датасет cuad.validation: 510\n",
      "Датасет cuad.validation после чистки: 510 на пусто\n",
      "Датасет cuad.validation после чистки: 225 на max_tokens\n",
      "Датасет cuad.validation после чистки: 225\n",
      "Взято из cuad.validation после чистки: 33\n"
     ]
    },
    {
     "name": "stderr",
     "output_type": "stream",
     "text": [
      "100%|██████████████████████████████████████████████████████████████████████████████████████████████████████████████████████████████████████████████████████████████████████████████████████████████████████████████| 5/5 [07:41<00:00, 92.37s/it]\n",
      "100%|██████████████████████████████████████████████████████████████████████████████████████████████████████████████████████████████████████████████████████████████████████████████████████████████████████████| 33/33 [00:00<00:00, 5542.91it/s]\n"
     ]
    },
    {
     "name": "stdout",
     "output_type": "stream",
     "text": [
      "Успешно распарсено в cuad.validation: 24\n",
      "Ошибочных ответов в cuad.validation: 9\n",
      "Датасет cuad.test: 510\n",
      "Датасет cuad.test после чистки: 510 на пусто\n",
      "Датасет cuad.test после чистки: 270 на max_tokens\n",
      "Датасет cuad.test после чистки: 270\n",
      "Взято из cuad.test после чистки: 40\n"
     ]
    },
    {
     "name": "stderr",
     "output_type": "stream",
     "text": [
      "100%|█████████████████████████████████████████████████████████████████████████████████████████████████████████████████████████████████████████████████████████████████████████████████████████████████████████████| 5/5 [09:56<00:00, 119.21s/it]\n",
      "100%|██████████████████████████████████████████████████████████████████████████████████████████████████████████████████████████████████████████████████████████████████████████████████████████████████████████| 40/40 [00:00<00:00, 4850.59it/s]\n"
     ]
    },
    {
     "name": "stdout",
     "output_type": "stream",
     "text": [
      "Успешно распарсено в cuad.test: 27\n",
      "Ошибочных ответов в cuad.test: 13\n",
      "Датасет delucionqa.train: 1460\n",
      "Датасет delucionqa.train после чистки: 1458 на пусто\n",
      "Датасет delucionqa.train после чистки: 1458 на max_tokens\n",
      "Датасет delucionqa.train после чистки: 1458\n",
      "Взято из delucionqa.train после чистки: 218\n"
     ]
    },
    {
     "name": "stderr",
     "output_type": "stream",
     "text": [
      "100%|████████████████████████████████████████████████████████████████████████████████████████████████████████████████████████████████████████████████████████████████████████████████████████████████████████████| 28/28 [29:16<00:00, 62.73s/it]\n",
      "100%|████████████████████████████████████████████████████████████████████████████████████████████████████████████████████████████████████████████████████████████████████████████████████████████████████████| 218/218 [00:00<00:00, 6195.01it/s]\n"
     ]
    },
    {
     "name": "stdout",
     "output_type": "stream",
     "text": [
      "Успешно распарсено в delucionqa.train: 174\n",
      "Ошибочных ответов в delucionqa.train: 44\n",
      "Датасет delucionqa.validation: 182\n",
      "Датасет delucionqa.validation после чистки: 182 на пусто\n",
      "Датасет delucionqa.validation после чистки: 182 на max_tokens\n",
      "Датасет delucionqa.validation после чистки: 182\n",
      "Взято из delucionqa.validation после чистки: 27\n"
     ]
    },
    {
     "name": "stderr",
     "output_type": "stream",
     "text": [
      "100%|██████████████████████████████████████████████████████████████████████████████████████████████████████████████████████████████████████████████████████████████████████████████████████████████████████████████| 4/4 [03:58<00:00, 59.61s/it]\n",
      "100%|██████████████████████████████████████████████████████████████████████████████████████████████████████████████████████████████████████████████████████████████████████████████████████████████████████████| 27/27 [00:00<00:00, 6938.68it/s]\n"
     ]
    },
    {
     "name": "stdout",
     "output_type": "stream",
     "text": [
      "Успешно распарсено в delucionqa.validation: 24\n",
      "Ошибочных ответов в delucionqa.validation: 3\n",
      "Датасет delucionqa.test: 184\n",
      "Датасет delucionqa.test после чистки: 184 на пусто\n",
      "Датасет delucionqa.test после чистки: 184 на max_tokens\n",
      "Датасет delucionqa.test после чистки: 184\n",
      "Взято из delucionqa.test после чистки: 27\n"
     ]
    },
    {
     "name": "stderr",
     "output_type": "stream",
     "text": [
      "100%|██████████████████████████████████████████████████████████████████████████████████████████████████████████████████████████████████████████████████████████████████████████████████████████████████████████████| 4/4 [03:37<00:00, 54.35s/it]\n",
      "100%|██████████████████████████████████████████████████████████████████████████████████████████████████████████████████████████████████████████████████████████████████████████████████████████████████████████| 27/27 [00:00<00:00, 6990.51it/s]\n"
     ]
    },
    {
     "name": "stdout",
     "output_type": "stream",
     "text": [
      "Успешно распарсено в delucionqa.test: 23\n",
      "Ошибочных ответов в delucionqa.test: 4\n",
      "Датасет emanual.train: 1054\n",
      "Датасет emanual.train после чистки: 1054 на пусто\n",
      "Датасет emanual.train после чистки: 1054 на max_tokens\n",
      "Датасет emanual.train после чистки: 1054\n",
      "Взято из emanual.train после чистки: 158\n"
     ]
    },
    {
     "name": "stderr",
     "output_type": "stream",
     "text": [
      "100%|████████████████████████████████████████████████████████████████████████████████████████████████████████████████████████████████████████████████████████████████████████████████████████████████████████████| 20/20 [19:54<00:00, 59.72s/it]\n",
      "100%|████████████████████████████████████████████████████████████████████████████████████████████████████████████████████████████████████████████████████████████████████████████████████████████████████████| 158/158 [00:00<00:00, 6913.42it/s]\n"
     ]
    },
    {
     "name": "stdout",
     "output_type": "stream",
     "text": [
      "Успешно распарсено в emanual.train: 139\n",
      "Ошибочных ответов в emanual.train: 19\n",
      "Датасет emanual.validation: 132\n",
      "Датасет emanual.validation после чистки: 132 на пусто\n",
      "Датасет emanual.validation после чистки: 132 на max_tokens\n",
      "Датасет emanual.validation после чистки: 132\n",
      "Взято из emanual.validation после чистки: 19\n"
     ]
    },
    {
     "name": "stderr",
     "output_type": "stream",
     "text": [
      "100%|██████████████████████████████████████████████████████████████████████████████████████████████████████████████████████████████████████████████████████████████████████████████████████████████████████████████| 3/3 [02:59<00:00, 59.79s/it]\n",
      "100%|██████████████████████████████████████████████████████████████████████████████████████████████████████████████████████████████████████████████████████████████████████████████████████████████████████████| 19/19 [00:00<00:00, 5876.54it/s]\n"
     ]
    },
    {
     "name": "stdout",
     "output_type": "stream",
     "text": [
      "Успешно распарсено в emanual.validation: 15\n",
      "Ошибочных ответов в emanual.validation: 4\n",
      "Датасет emanual.test: 132\n",
      "Датасет emanual.test после чистки: 132 на пусто\n",
      "Датасет emanual.test после чистки: 132 на max_tokens\n",
      "Датасет emanual.test после чистки: 132\n",
      "Взято из emanual.test после чистки: 19\n"
     ]
    },
    {
     "name": "stderr",
     "output_type": "stream",
     "text": [
      "100%|██████████████████████████████████████████████████████████████████████████████████████████████████████████████████████████████████████████████████████████████████████████████████████████████████████████████| 3/3 [03:01<00:00, 60.45s/it]\n",
      "100%|██████████████████████████████████████████████████████████████████████████████████████████████████████████████████████████████████████████████████████████████████████████████████████████████████████████| 19/19 [00:00<00:00, 5433.41it/s]\n"
     ]
    },
    {
     "name": "stdout",
     "output_type": "stream",
     "text": [
      "Успешно распарсено в emanual.test: 14\n",
      "Ошибочных ответов в emanual.test: 5\n",
      "Датасет expertqa.train: 1621\n",
      "Датасет expertqa.train после чистки: 1621 на пусто\n",
      "Датасет expertqa.train после чистки: 1462 на max_tokens\n",
      "Датасет expertqa.train после чистки: 1462\n",
      "Взято из expertqa.train после чистки: 219\n"
     ]
    },
    {
     "name": "stderr",
     "output_type": "stream",
     "text": [
      "100%|████████████████████████████████████████████████████████████████████████████████████████████████████████████████████████████████████████████████████████████████████████████████████████████████████████████| 28/28 [35:44<00:00, 76.60s/it]\n",
      "100%|████████████████████████████████████████████████████████████████████████████████████████████████████████████████████████████████████████████████████████████████████████████████████████████████████████| 219/219 [00:00<00:00, 5298.37it/s]\n"
     ]
    },
    {
     "name": "stdout",
     "output_type": "stream",
     "text": [
      "Успешно распарсено в expertqa.train: 156\n",
      "Ошибочных ответов в expertqa.train: 63\n",
      "Датасет expertqa.validation: 203\n",
      "Датасет expertqa.validation после чистки: 203 на пусто\n",
      "Датасет expertqa.validation после чистки: 190 на max_tokens\n",
      "Датасет expertqa.validation после чистки: 190\n",
      "Взято из expertqa.validation после чистки: 28\n"
     ]
    },
    {
     "name": "stderr",
     "output_type": "stream",
     "text": [
      "100%|██████████████████████████████████████████████████████████████████████████████████████████████████████████████████████████████████████████████████████████████████████████████████████████████████████████████| 4/4 [04:24<00:00, 66.12s/it]\n",
      "100%|██████████████████████████████████████████████████████████████████████████████████████████████████████████████████████████████████████████████████████████████████████████████████████████████████████████| 28/28 [00:00<00:00, 5296.08it/s]\n"
     ]
    },
    {
     "name": "stdout",
     "output_type": "stream",
     "text": [
      "Успешно распарсено в expertqa.validation: 22\n",
      "Ошибочных ответов в expertqa.validation: 6\n",
      "Датасет expertqa.test: 203\n",
      "Датасет expertqa.test после чистки: 203 на пусто\n",
      "Датасет expertqa.test после чистки: 183 на max_tokens\n",
      "Датасет expertqa.test после чистки: 183\n",
      "Взято из expertqa.test после чистки: 27\n"
     ]
    },
    {
     "name": "stderr",
     "output_type": "stream",
     "text": [
      "100%|██████████████████████████████████████████████████████████████████████████████████████████████████████████████████████████████████████████████████████████████████████████████████████████████████████████████| 4/4 [04:46<00:00, 71.62s/it]\n",
      "100%|██████████████████████████████████████████████████████████████████████████████████████████████████████████████████████████████████████████████████████████████████████████████████████████████████████████| 27/27 [00:00<00:00, 4882.78it/s]\n"
     ]
    },
    {
     "name": "stdout",
     "output_type": "stream",
     "text": [
      "Успешно распарсено в expertqa.test: 19\n",
      "Ошибочных ответов в expertqa.test: 8\n",
      "Датасет finqa.train: 12502\n",
      "Датасет finqa.train после чистки: 12502 на пусто\n",
      "Датасет finqa.train после чистки: 12502 на max_tokens\n",
      "Датасет finqa.train после чистки: 12502\n",
      "Взято из finqa.train после чистки: 1875\n"
     ]
    },
    {
     "name": "stderr",
     "output_type": "stream",
     "text": [
      "100%|████████████████████████████████████████████████████████████████████████████████████████████████████████████████████████████████████████████████████████████████████████████████████████████████████████| 235/235 [3:21:17<00:00, 51.39s/it]\n",
      "100%|██████████████████████████████████████████████████████████████████████████████████████████████████████████████████████████████████████████████████████████████████████████████████████████████████████| 1875/1875 [00:00<00:00, 9594.11it/s]\n"
     ]
    },
    {
     "name": "stdout",
     "output_type": "stream",
     "text": [
      "Успешно распарсено в finqa.train: 1862\n",
      "Ошибочных ответов в finqa.train: 13\n",
      "Датасет finqa.validation: 1766\n",
      "Датасет finqa.validation после чистки: 1766 на пусто\n",
      "Датасет finqa.validation после чистки: 1766 на max_tokens\n",
      "Датасет finqa.validation после чистки: 1766\n",
      "Взято из finqa.validation после чистки: 264\n"
     ]
    },
    {
     "name": "stderr",
     "output_type": "stream",
     "text": [
      "100%|████████████████████████████████████████████████████████████████████████████████████████████████████████████████████████████████████████████████████████████████████████████████████████████████████████████| 33/33 [27:41<00:00, 50.35s/it]\n",
      "100%|████████████████████████████████████████████████████████████████████████████████████████████████████████████████████████████████████████████████████████████████████████████████████████████████████████| 264/264 [00:00<00:00, 9567.43it/s]\n"
     ]
    },
    {
     "name": "stdout",
     "output_type": "stream",
     "text": [
      "Успешно распарсено в finqa.validation: 262\n",
      "Ошибочных ответов в finqa.validation: 2\n",
      "Датасет finqa.test: 2294\n",
      "Датасет finqa.test после чистки: 2294 на пусто\n",
      "Датасет finqa.test после чистки: 2294 на max_tokens\n",
      "Датасет finqa.test после чистки: 2294\n",
      "Взято из finqa.test после чистки: 344\n"
     ]
    },
    {
     "name": "stderr",
     "output_type": "stream",
     "text": [
      "100%|████████████████████████████████████████████████████████████████████████████████████████████████████████████████████████████████████████████████████████████████████████████████████████████████████████████| 43/43 [36:48<00:00, 51.37s/it]\n",
      "100%|████████████████████████████████████████████████████████████████████████████████████████████████████████████████████████████████████████████████████████████████████████████████████████████████████████| 344/344 [00:00<00:00, 9314.12it/s]\n"
     ]
    },
    {
     "name": "stdout",
     "output_type": "stream",
     "text": [
      "Успешно распарсено в finqa.test: 341\n",
      "Ошибочных ответов в finqa.test: 3\n",
      "Датасет hagrid.train: 2892\n",
      "Датасет hagrid.train после чистки: 2892 на пусто\n",
      "Датасет hagrid.train после чистки: 2892 на max_tokens\n",
      "Датасет hagrid.train после чистки: 2892\n",
      "Взято из hagrid.train после чистки: 433\n"
     ]
    },
    {
     "name": "stderr",
     "output_type": "stream",
     "text": [
      "100%|████████████████████████████████████████████████████████████████████████████████████████████████████████████████████████████████████████████████████████████████████████████████████████████████████████████| 55/55 [40:10<00:00, 43.83s/it]\n",
      "100%|███████████████████████████████████████████████████████████████████████████████████████████████████████████████████████████████████████████████████████████████████████████████████████████████████████| 433/433 [00:00<00:00, 12253.12it/s]\n"
     ]
    },
    {
     "name": "stdout",
     "output_type": "stream",
     "text": [
      "Успешно распарсено в hagrid.train: 428\n",
      "Ошибочных ответов в hagrid.train: 5\n",
      "Датасет hagrid.validation: 322\n",
      "Датасет hagrid.validation после чистки: 322 на пусто\n",
      "Датасет hagrid.validation после чистки: 322 на max_tokens\n",
      "Датасет hagrid.validation после чистки: 322\n",
      "Взято из hagrid.validation после чистки: 48\n"
     ]
    },
    {
     "name": "stderr",
     "output_type": "stream",
     "text": [
      "100%|██████████████████████████████████████████████████████████████████████████████████████████████████████████████████████████████████████████████████████████████████████████████████████████████████████████████| 6/6 [04:35<00:00, 45.93s/it]\n",
      "100%|█████████████████████████████████████████████████████████████████████████████████████████████████████████████████████████████████████████████████████████████████████████████████████████████████████████| 48/48 [00:00<00:00, 12699.59it/s]\n"
     ]
    },
    {
     "name": "stdout",
     "output_type": "stream",
     "text": [
      "Успешно распарсено в hagrid.validation: 48\n",
      "Ошибочных ответов в hagrid.validation: 0\n",
      "Датасет hagrid.test: 1318\n",
      "Датасет hagrid.test после чистки: 1318 на пусто\n",
      "Датасет hagrid.test после чистки: 1318 на max_tokens\n",
      "Датасет hagrid.test после чистки: 1318\n",
      "Взято из hagrid.test после чистки: 197\n"
     ]
    },
    {
     "name": "stderr",
     "output_type": "stream",
     "text": [
      "100%|████████████████████████████████████████████████████████████████████████████████████████████████████████████████████████████████████████████████████████████████████████████████████████████████████████████| 25/25 [20:16<00:00, 48.67s/it]\n",
      "100%|███████████████████████████████████████████████████████████████████████████████████████████████████████████████████████████████████████████████████████████████████████████████████████████████████████| 197/197 [00:00<00:00, 11074.48it/s]\n"
     ]
    },
    {
     "name": "stdout",
     "output_type": "stream",
     "text": [
      "Успешно распарсено в hagrid.test: 191\n",
      "Ошибочных ответов в hagrid.test: 6\n",
      "Датасет hotpotqa.train: 1883\n",
      "Датасет hotpotqa.train после чистки: 1883 на пусто\n",
      "Датасет hotpotqa.train после чистки: 1883 на max_tokens\n",
      "Датасет hotpotqa.train после чистки: 1883\n",
      "Взято из hotpotqa.train после чистки: 282\n"
     ]
    },
    {
     "name": "stderr",
     "output_type": "stream",
     "text": [
      "100%|████████████████████████████████████████████████████████████████████████████████████████████████████████████████████████████████████████████████████████████████████████████████████████████████████████████| 36/36 [18:51<00:00, 31.43s/it]\n",
      "100%|███████████████████████████████████████████████████████████████████████████████████████████████████████████████████████████████████████████████████████████████████████████████████████████████████████| 282/282 [00:00<00:00, 15461.96it/s]\n"
     ]
    },
    {
     "name": "stdout",
     "output_type": "stream",
     "text": [
      "Успешно распарсено в hotpotqa.train: 282\n",
      "Ошибочных ответов в hotpotqa.train: 0\n",
      "Датасет hotpotqa.validation: 424\n",
      "Датасет hotpotqa.validation после чистки: 424 на пусто\n",
      "Датасет hotpotqa.validation после чистки: 424 на max_tokens\n",
      "Датасет hotpotqa.validation после чистки: 424\n",
      "Взято из hotpotqa.validation после чистки: 63\n"
     ]
    },
    {
     "name": "stderr",
     "output_type": "stream",
     "text": [
      "100%|██████████████████████████████████████████████████████████████████████████████████████████████████████████████████████████████████████████████████████████████████████████████████████████████████████████████| 8/8 [04:06<00:00, 30.83s/it]\n",
      "100%|█████████████████████████████████████████████████████████████████████████████████████████████████████████████████████████████████████████████████████████████████████████████████████████████████████████| 63/63 [00:00<00:00, 15843.70it/s]\n"
     ]
    },
    {
     "name": "stdout",
     "output_type": "stream",
     "text": [
      "Успешно распарсено в hotpotqa.validation: 63\n",
      "Ошибочных ответов в hotpotqa.validation: 0\n",
      "Датасет hotpotqa.test: 390\n",
      "Датасет hotpotqa.test после чистки: 390 на пусто\n",
      "Датасет hotpotqa.test после чистки: 390 на max_tokens\n",
      "Датасет hotpotqa.test после чистки: 390\n",
      "Взято из hotpotqa.test после чистки: 58\n"
     ]
    },
    {
     "name": "stderr",
     "output_type": "stream",
     "text": [
      "100%|██████████████████████████████████████████████████████████████████████████████████████████████████████████████████████████████████████████████████████████████████████████████████████████████████████████████| 8/8 [04:01<00:00, 30.20s/it]\n",
      "100%|█████████████████████████████████████████████████████████████████████████████████████████████████████████████████████████████████████████████████████████████████████████████████████████████████████████| 58/58 [00:00<00:00, 15626.26it/s]\n"
     ]
    },
    {
     "name": "stdout",
     "output_type": "stream",
     "text": [
      "Успешно распарсено в hotpotqa.test: 58\n",
      "Ошибочных ответов в hotpotqa.test: 0\n",
      "Датасет msmarco.train: 1870\n",
      "Датасет msmarco.train после чистки: 1870 на пусто\n",
      "Датасет msmarco.train после чистки: 1870 на max_tokens\n",
      "Датасет msmarco.train после чистки: 1870\n",
      "Взято из msmarco.train после чистки: 280\n"
     ]
    },
    {
     "name": "stderr",
     "output_type": "stream",
     "text": [
      "100%|████████████████████████████████████████████████████████████████████████████████████████████████████████████████████████████████████████████████████████████████████████████████████████████████████████████| 35/35 [39:24<00:00, 67.56s/it]\n",
      "100%|████████████████████████████████████████████████████████████████████████████████████████████████████████████████████████████████████████████████████████████████████████████████████████████████████████| 280/280 [00:00<00:00, 7980.57it/s]\n"
     ]
    },
    {
     "name": "stdout",
     "output_type": "stream",
     "text": [
      "Успешно распарсено в msmarco.train: 262\n",
      "Ошибочных ответов в msmarco.train: 18\n",
      "Датасет msmarco.validation: 397\n",
      "Датасет msmarco.validation после чистки: 397 на пусто\n",
      "Датасет msmarco.validation после чистки: 397 на max_tokens\n",
      "Датасет msmarco.validation после чистки: 397\n",
      "Взято из msmarco.validation после чистки: 59\n"
     ]
    },
    {
     "name": "stderr",
     "output_type": "stream",
     "text": [
      "100%|██████████████████████████████████████████████████████████████████████████████████████████████████████████████████████████████████████████████████████████████████████████████████████████████████████████████| 8/8 [07:48<00:00, 58.50s/it]\n",
      "100%|██████████████████████████████████████████████████████████████████████████████████████████████████████████████████████████████████████████████████████████████████████████████████████████████████████████| 59/59 [00:00<00:00, 7640.37it/s]\n"
     ]
    },
    {
     "name": "stdout",
     "output_type": "stream",
     "text": [
      "Успешно распарсено в msmarco.validation: 54\n",
      "Ошибочных ответов в msmarco.validation: 5\n",
      "Датасет msmarco.test: 423\n",
      "Датасет msmarco.test после чистки: 423 на пусто\n",
      "Датасет msmarco.test после чистки: 423 на max_tokens\n",
      "Датасет msmarco.test после чистки: 423\n",
      "Взято из msmarco.test после чистки: 63\n"
     ]
    },
    {
     "name": "stderr",
     "output_type": "stream",
     "text": [
      "100%|█████████████████████████████████████████████████████████████████████████████████████████████████████████████████████████████████████████████████████████████████████████████████████████████████████████████| 8/8 [14:23<00:00, 107.95s/it]\n",
      "100%|██████████████████████████████████████████████████████████████████████████████████████████████████████████████████████████████████████████████████████████████████████████████████████████████████████████| 63/63 [00:00<00:00, 8779.36it/s]\n"
     ]
    },
    {
     "name": "stdout",
     "output_type": "stream",
     "text": [
      "Успешно распарсено в msmarco.test: 60\n",
      "Ошибочных ответов в msmarco.test: 3\n",
      "Датасет pubmedqa.train: 19600\n",
      "Датасет pubmedqa.train после чистки: 19600 на пусто\n",
      "Датасет pubmedqa.train после чистки: 19600 на max_tokens\n",
      "Датасет pubmedqa.train после чистки: 19600\n",
      "Взято из pubmedqa.train после чистки: 2940\n"
     ]
    },
    {
     "name": "stderr",
     "output_type": "stream",
     "text": [
      " 61%|████████████████████████████████████████████████████████████████████████████████████████████████████████████████████████▍                                                                            | 225/368 [5:39:08<6:36:27, 166.34s/it]"
     ]
    }
   ],
   "source": [
    "results, aggregated_metrics, bad = await run_evaluation(article_prompt, client, model_id, tokenizer, sample_percent=15)"
   ]
  },
  {
   "cell_type": "code",
   "execution_count": 2,
   "id": "940b0ae7",
   "metadata": {},
   "outputs": [
    {
     "name": "stdout",
     "output_type": "stream",
     "text": [
      "\u001b[0m\u001b[01;34mdeberta-finetuned\u001b[0m/  \u001b[01;34mdeberta-finetuned_2\u001b[0m/  \u001b[01;34mruRagEvaluation\u001b[0m/  \u001b[01;34mtmp\u001b[0m/\n"
     ]
    }
   ],
   "source": [
    "ls .."
   ]
  },
  {
   "cell_type": "code",
   "execution_count": 3,
   "id": "fd9b1db5",
   "metadata": {},
   "outputs": [
    {
     "data": {
      "text/plain": [
       "{'bad': {'covidqa': {'train': {'llm_error': 0,\n",
       "    'token_len_error': 0,\n",
       "    'dataset_error': 0},\n",
       "   'validation': {'llm_error': 0, 'token_len_error': 0, 'dataset_error': 0},\n",
       "   'test': {'llm_error': 0, 'token_len_error': 0, 'dataset_error': 0}},\n",
       "  'cuad': {'train': {'llm_error': 29,\n",
       "    'token_len_error': 0,\n",
       "    'dataset_error': 853},\n",
       "   'validation': {'llm_error': 9, 'token_len_error': 0, 'dataset_error': 285},\n",
       "   'test': {'llm_error': 13, 'token_len_error': 0, 'dataset_error': 240}},\n",
       "  'delucionqa': {'train': {'llm_error': 44,\n",
       "    'token_len_error': 0,\n",
       "    'dataset_error': 2},\n",
       "   'validation': {'llm_error': 3, 'token_len_error': 0, 'dataset_error': 0},\n",
       "   'test': {'llm_error': 4, 'token_len_error': 0, 'dataset_error': 0}},\n",
       "  'emanual': {'train': {'llm_error': 19,\n",
       "    'token_len_error': 0,\n",
       "    'dataset_error': 0},\n",
       "   'validation': {'llm_error': 4, 'token_len_error': 0, 'dataset_error': 0},\n",
       "   'test': {'llm_error': 5, 'token_len_error': 0, 'dataset_error': 0}},\n",
       "  'expertqa': {'train': {'llm_error': 63,\n",
       "    'token_len_error': 0,\n",
       "    'dataset_error': 159},\n",
       "   'validation': {'llm_error': 6, 'token_len_error': 0, 'dataset_error': 13},\n",
       "   'test': {'llm_error': 8, 'token_len_error': 0, 'dataset_error': 20}},\n",
       "  'finqa': {'train': {'llm_error': 13,\n",
       "    'token_len_error': 0,\n",
       "    'dataset_error': 0},\n",
       "   'validation': {'llm_error': 2, 'token_len_error': 0, 'dataset_error': 0},\n",
       "   'test': {'llm_error': 3, 'token_len_error': 0, 'dataset_error': 0}},\n",
       "  'hagrid': {'train': {'llm_error': 5,\n",
       "    'token_len_error': 0,\n",
       "    'dataset_error': 0},\n",
       "   'validation': {'llm_error': 0, 'token_len_error': 0, 'dataset_error': 0},\n",
       "   'test': {'llm_error': 6, 'token_len_error': 0, 'dataset_error': 0}},\n",
       "  'hotpotqa': {'train': {'llm_error': 0,\n",
       "    'token_len_error': 0,\n",
       "    'dataset_error': 0},\n",
       "   'validation': {'llm_error': 0, 'token_len_error': 0, 'dataset_error': 0},\n",
       "   'test': {'llm_error': 0, 'token_len_error': 0, 'dataset_error': 0}},\n",
       "  'msmarco': {'train': {'llm_error': 18,\n",
       "    'token_len_error': 0,\n",
       "    'dataset_error': 0},\n",
       "   'validation': {'llm_error': 5, 'token_len_error': 0, 'dataset_error': 0},\n",
       "   'test': {'llm_error': 3, 'token_len_error': 0, 'dataset_error': 0}},\n",
       "  'pubmedqa': {'train': {'llm_error': 103,\n",
       "    'token_len_error': 0,\n",
       "    'dataset_error': 0},\n",
       "   'validation': {'llm_error': 20, 'token_len_error': 0, 'dataset_error': 1},\n",
       "   'test': {'llm_error': 7, 'token_len_error': 0, 'dataset_error': 0}},\n",
       "  'tatqa': {'train': {'llm_error': 14,\n",
       "    'token_len_error': 0,\n",
       "    'dataset_error': 0},\n",
       "   'validation': {'llm_error': 3, 'token_len_error': 0, 'dataset_error': 0},\n",
       "   'test': {'llm_error': 3, 'token_len_error': 0, 'dataset_error': 0}},\n",
       "  'techqa': {'train': {'llm_error': 61,\n",
       "    'token_len_error': 0,\n",
       "    'dataset_error': 377},\n",
       "   'validation': {'llm_error': 13, 'token_len_error': 0, 'dataset_error': 109},\n",
       "   'test': {'llm_error': 15, 'token_len_error': 0, 'dataset_error': 100}}},\n",
       " 'results': {'covidqa': {'train': {'relevant_overlap_mean': 0.7534243595347717,\n",
       "    'relevant_miss_mean': 1.518716577540107,\n",
       "    'relevant_extra_mean': 1.6737967914438503,\n",
       "    'utilized_overlap_mean': 0.8355338424463936,\n",
       "    'utilized_miss_mean': 0.5775401069518716,\n",
       "    'utilized_extra_mean': 0.8449197860962567},\n",
       "   'validation': {'relevant_overlap_mean': 0.776686507936508,\n",
       "    'relevant_miss_mean': 1.25,\n",
       "    'relevant_extra_mean': 1.825,\n",
       "    'utilized_overlap_mean': 0.8864583333333332,\n",
       "    'utilized_miss_mean': 0.3,\n",
       "    'utilized_extra_mean': 1.1},\n",
       "   'test': {'relevant_overlap_mean': 0.729166358333025,\n",
       "    'relevant_miss_mean': 1.25,\n",
       "    'relevant_extra_mean': 1.8333333333333333,\n",
       "    'utilized_overlap_mean': 0.8135980531813866,\n",
       "    'utilized_miss_mean': 0.6666666666666666,\n",
       "    'utilized_extra_mean': 1.0833333333333333}},\n",
       "  'cuad': {'train': {'relevant_overlap_mean': 0.6190233691254687,\n",
       "    'relevant_miss_mean': 4.402777777777778,\n",
       "    'relevant_extra_mean': 7.888888888888889,\n",
       "    'utilized_overlap_mean': 0.6486927424427424,\n",
       "    'utilized_miss_mean': 0.875,\n",
       "    'utilized_extra_mean': 5.125},\n",
       "   'validation': {'relevant_overlap_mean': 0.6189053362573099,\n",
       "    'relevant_miss_mean': 2.75,\n",
       "    'relevant_extra_mean': 4.0,\n",
       "    'utilized_overlap_mean': 0.7476851851851851,\n",
       "    'utilized_miss_mean': 0.4583333333333333,\n",
       "    'utilized_extra_mean': 2.75},\n",
       "   'test': {'relevant_overlap_mean': 0.7815624825428747,\n",
       "    'relevant_miss_mean': 0.9259259259259259,\n",
       "    'relevant_extra_mean': 9.444444444444445,\n",
       "    'utilized_overlap_mean': 0.8475308641975309,\n",
       "    'utilized_miss_mean': 0.6296296296296297,\n",
       "    'utilized_extra_mean': 6.148148148148148}},\n",
       "  'delucionqa': {'train': {'relevant_overlap_mean': 0.9039074253469401,\n",
       "    'relevant_miss_mean': 0.6896551724137931,\n",
       "    'relevant_extra_mean': 7.344827586206897,\n",
       "    'utilized_overlap_mean': 0.8676784288687897,\n",
       "    'utilized_miss_mean': 1.0862068965517242,\n",
       "    'utilized_extra_mean': 1.9195402298850575},\n",
       "   'validation': {'relevant_overlap_mean': 0.8680555555555557,\n",
       "    'relevant_miss_mean': 0.5833333333333334,\n",
       "    'relevant_extra_mean': 5.166666666666667,\n",
       "    'utilized_overlap_mean': 0.8807539682539683,\n",
       "    'utilized_miss_mean': 0.4583333333333333,\n",
       "    'utilized_extra_mean': 1.5833333333333333},\n",
       "   'test': {'relevant_overlap_mean': 0.8487961455992147,\n",
       "    'relevant_miss_mean': 1.1304347826086956,\n",
       "    'relevant_extra_mean': 7.826086956521739,\n",
       "    'utilized_overlap_mean': 0.802044141975492,\n",
       "    'utilized_miss_mean': 1.565217391304348,\n",
       "    'utilized_extra_mean': 1.3043478260869565}},\n",
       "  'emanual': {'train': {'relevant_overlap_mean': 0.8802141673861944,\n",
       "    'relevant_miss_mean': 0.60431654676259,\n",
       "    'relevant_extra_mean': 4.237410071942446,\n",
       "    'utilized_overlap_mean': 0.8634463458204465,\n",
       "    'utilized_miss_mean': 0.5539568345323741,\n",
       "    'utilized_extra_mean': 1.4820143884892085},\n",
       "   'validation': {'relevant_overlap_mean': 0.9003787878787879,\n",
       "    'relevant_miss_mean': 0.9333333333333333,\n",
       "    'relevant_extra_mean': 4.933333333333334,\n",
       "    'utilized_overlap_mean': 0.8533333333333334,\n",
       "    'utilized_miss_mean': 0.4666666666666667,\n",
       "    'utilized_extra_mean': 1.3333333333333333},\n",
       "   'test': {'relevant_overlap_mean': 0.9653061224489796,\n",
       "    'relevant_miss_mean': 0.21428571428571427,\n",
       "    'relevant_extra_mean': 5.5,\n",
       "    'utilized_overlap_mean': 0.9312925170068027,\n",
       "    'utilized_miss_mean': 0.42857142857142855,\n",
       "    'utilized_extra_mean': 1.0714285714285714}},\n",
       "  'expertqa': {'train': {'relevant_overlap_mean': 0.7896551879425464,\n",
       "    'relevant_miss_mean': 0.9487179487179487,\n",
       "    'relevant_extra_mean': 6.57051282051282,\n",
       "    'utilized_overlap_mean': 0.7016207744782159,\n",
       "    'utilized_miss_mean': 1.0512820512820513,\n",
       "    'utilized_extra_mean': 3.4358974358974357},\n",
       "   'validation': {'relevant_overlap_mean': 0.8985302576211667,\n",
       "    'relevant_miss_mean': 0.4090909090909091,\n",
       "    'relevant_extra_mean': 7.909090909090909,\n",
       "    'utilized_overlap_mean': 0.632070707070707,\n",
       "    'utilized_miss_mean': 0.5909090909090909,\n",
       "    'utilized_extra_mean': 3.5},\n",
       "   'test': {'relevant_overlap_mean': 0.9094017094017094,\n",
       "    'relevant_miss_mean': 0.3157894736842105,\n",
       "    'relevant_extra_mean': 7.105263157894737,\n",
       "    'utilized_overlap_mean': 0.7728070175438596,\n",
       "    'utilized_miss_mean': 0.47368421052631576,\n",
       "    'utilized_extra_mean': 4.157894736842105}},\n",
       "  'finqa': {'train': {'relevant_overlap_mean': 0.49088762413144793,\n",
       "    'relevant_miss_mean': 0.776047261009667,\n",
       "    'relevant_extra_mean': 2.0365198711063375,\n",
       "    'utilized_overlap_mean': 0.48680630146795556,\n",
       "    'utilized_miss_mean': 0.6235230934479055,\n",
       "    'utilized_extra_mean': 0.9801288936627283},\n",
       "   'validation': {'relevant_overlap_mean': 0.5064249363867684,\n",
       "    'relevant_miss_mean': 0.7290076335877863,\n",
       "    'relevant_extra_mean': 2.1603053435114505,\n",
       "    'utilized_overlap_mean': 0.5089058524173028,\n",
       "    'utilized_miss_mean': 0.5763358778625954,\n",
       "    'utilized_extra_mean': 1.0954198473282444},\n",
       "   'test': {'relevant_overlap_mean': 0.47311827956989244,\n",
       "    'relevant_miss_mean': 0.7595307917888563,\n",
       "    'relevant_extra_mean': 2.131964809384164,\n",
       "    'utilized_overlap_mean': 0.46920821114369504,\n",
       "    'utilized_miss_mean': 0.6187683284457478,\n",
       "    'utilized_extra_mean': 1.0909090909090908}},\n",
       "  'hagrid': {'train': {'relevant_overlap_mean': 0.8776891916494721,\n",
       "    'relevant_miss_mean': 0.40654205607476634,\n",
       "    'relevant_extra_mean': 3.3598130841121496,\n",
       "    'utilized_overlap_mean': 0.8287160658655984,\n",
       "    'utilized_miss_mean': 0.3294392523364486,\n",
       "    'utilized_extra_mean': 1.144859813084112},\n",
       "   'validation': {'relevant_overlap_mean': 0.9305059523809524,\n",
       "    'relevant_miss_mean': 0.25,\n",
       "    'relevant_extra_mean': 2.3333333333333335,\n",
       "    'utilized_overlap_mean': 0.9403935185185185,\n",
       "    'utilized_miss_mean': 0.22916666666666666,\n",
       "    'utilized_extra_mean': 1.0625},\n",
       "   'test': {'relevant_overlap_mean': 0.8636702448220773,\n",
       "    'relevant_miss_mean': 0.6178010471204188,\n",
       "    'relevant_extra_mean': 2.397905759162304,\n",
       "    'utilized_overlap_mean': 0.8443360304616848,\n",
       "    'utilized_miss_mean': 0.35602094240837695,\n",
       "    'utilized_extra_mean': 1.031413612565445}},\n",
       "  'hotpotqa': {'train': {'relevant_overlap_mean': 0.8690842057863335,\n",
       "    'relevant_miss_mean': 0.5106382978723404,\n",
       "    'relevant_extra_mean': 0.8191489361702128,\n",
       "    'utilized_overlap_mean': 0.8946217494089835,\n",
       "    'utilized_miss_mean': 0.2695035460992908,\n",
       "    'utilized_extra_mean': 0.6773049645390071},\n",
       "   'validation': {'relevant_overlap_mean': 0.7846560846560845,\n",
       "    'relevant_miss_mean': 0.7619047619047619,\n",
       "    'relevant_extra_mean': 0.9047619047619048,\n",
       "    'utilized_overlap_mean': 0.8608465608465607,\n",
       "    'utilized_miss_mean': 0.3492063492063492,\n",
       "    'utilized_extra_mean': 0.6031746031746031},\n",
       "   'test': {'relevant_overlap_mean': 0.8855500821018062,\n",
       "    'relevant_miss_mean': 0.5,\n",
       "    'relevant_extra_mean': 0.603448275862069,\n",
       "    'utilized_overlap_mean': 0.9491379310344827,\n",
       "    'utilized_miss_mean': 0.15517241379310345,\n",
       "    'utilized_extra_mean': 0.5}},\n",
       "  'msmarco': {'train': {'relevant_overlap_mean': 0.7897864286996878,\n",
       "    'relevant_miss_mean': 2.3893129770992365,\n",
       "    'relevant_extra_mean': 5.8893129770992365,\n",
       "    'utilized_overlap_mean': 0.8207700856993627,\n",
       "    'utilized_miss_mean': 1.049618320610687,\n",
       "    'utilized_extra_mean': 3.16412213740458},\n",
       "   'validation': {'relevant_overlap_mean': 0.7952827567396098,\n",
       "    'relevant_miss_mean': 2.074074074074074,\n",
       "    'relevant_extra_mean': 6.574074074074074,\n",
       "    'utilized_overlap_mean': 0.722788168621502,\n",
       "    'utilized_miss_mean': 1.2777777777777777,\n",
       "    'utilized_extra_mean': 3.1481481481481484},\n",
       "   'test': {'relevant_overlap_mean': 0.7727844541079835,\n",
       "    'relevant_miss_mean': 2.1333333333333333,\n",
       "    'relevant_extra_mean': 5.216666666666667,\n",
       "    'utilized_overlap_mean': 0.8266071428571429,\n",
       "    'utilized_miss_mean': 1.1,\n",
       "    'utilized_extra_mean': 2.7666666666666666}},\n",
       "  'pubmedqa': {'train': {'relevant_overlap_mean': 0.9040082109907974,\n",
       "    'relevant_miss_mean': 0.6129714487134297,\n",
       "    'relevant_extra_mean': 1.7183644695100457,\n",
       "    'utilized_overlap_mean': 0.8906782988150007,\n",
       "    'utilized_miss_mean': 0.522382798731054,\n",
       "    'utilized_extra_mean': 1.2467395135706731},\n",
       "   'validation': {'relevant_overlap_mean': 0.9202975218825362,\n",
       "    'relevant_miss_mean': 0.3919308357348703,\n",
       "    'relevant_extra_mean': 2.878962536023055,\n",
       "    'utilized_overlap_mean': 0.9001844297233345,\n",
       "    'utilized_miss_mean': 0.41786743515850144,\n",
       "    'utilized_extra_mean': 1.818443804034582},\n",
       "   'test': {'relevant_overlap_mean': 0.9256533589866922,\n",
       "    'relevant_miss_mean': 0.34444444444444444,\n",
       "    'relevant_extra_mean': 2.8472222222222223,\n",
       "    'utilized_overlap_mean': 0.8941669672919673,\n",
       "    'utilized_miss_mean': 0.4388888888888889,\n",
       "    'utilized_extra_mean': 1.7}},\n",
       "  'tatqa': {'train': {'relevant_overlap_mean': 0.8070534493015878,\n",
       "    'relevant_miss_mean': 0.6478481012658228,\n",
       "    'relevant_extra_mean': 0.37873417721518987,\n",
       "    'utilized_overlap_mean': 0.919083484026522,\n",
       "    'utilized_miss_mean': 0.16556962025316455,\n",
       "    'utilized_extra_mean': 0.13873417721518988},\n",
       "   'validation': {'relevant_overlap_mean': 0.7361402179309623,\n",
       "    'relevant_miss_mean': 0.39235412474849096,\n",
       "    'relevant_extra_mean': 0.744466800804829,\n",
       "    'utilized_overlap_mean': 0.7256874580818242,\n",
       "    'utilized_miss_mean': 0.30784708249496984,\n",
       "    'utilized_extra_mean': 0.40040241448692154},\n",
       "   'test': {'relevant_overlap_mean': 0.7340487368656382,\n",
       "    'relevant_miss_mean': 0.42655935613682094,\n",
       "    'relevant_extra_mean': 0.8128772635814889,\n",
       "    'utilized_overlap_mean': 0.726939414263358,\n",
       "    'utilized_miss_mean': 0.3420523138832998,\n",
       "    'utilized_extra_mean': 0.41448692152917505}},\n",
       "  'techqa': {'train': {'relevant_overlap_mean': 0.7575342015313087,\n",
       "    'relevant_miss_mean': 1.3770491803278688,\n",
       "    'relevant_extra_mean': 10.60655737704918,\n",
       "    'utilized_overlap_mean': 0.657457114834164,\n",
       "    'utilized_miss_mean': 1.0163934426229508,\n",
       "    'utilized_extra_mean': 3.8360655737704916},\n",
       "   'validation': {'relevant_overlap_mean': 0.7333028083028084,\n",
       "    'relevant_miss_mean': 4.3125,\n",
       "    'relevant_extra_mean': 18.75,\n",
       "    'utilized_overlap_mean': 0.6178571428571429,\n",
       "    'utilized_miss_mean': 0.5,\n",
       "    'utilized_extra_mean': 7.4375},\n",
       "   'test': {'relevant_overlap_mean': 0.7971033868092692,\n",
       "    'relevant_miss_mean': 0.29411764705882354,\n",
       "    'relevant_extra_mean': 7.470588235294118,\n",
       "    'utilized_overlap_mean': 0.6464985994397761,\n",
       "    'utilized_miss_mean': 0.6470588235294118,\n",
       "    'utilized_extra_mean': 4.235294117647059}}}}"
      ]
     },
     "execution_count": 3,
     "metadata": {},
     "output_type": "execute_result"
    }
   ],
   "source": [
    "import pickle\n",
    "with open('../tmp/tmp_res.pkl', 'rb') as f:\n",
    "    tmp_res=pickle.load(f)\n",
    "tmp_res"
   ]
  },
  {
   "cell_type": "code",
   "execution_count": null,
   "id": "483d19ea",
   "metadata": {},
   "outputs": [],
   "source": [
    "results, aggregated_metrics, bad"
   ]
  },
  {
   "cell_type": "code",
   "execution_count": null,
   "id": "00049570",
   "metadata": {},
   "outputs": [],
   "source": [
    ", sample_percent=15\n",
    "{'total_relevant_overlap_mean': 0.7021666381053938,\n",
    " 'total_relevant_miss_mean': 1.0547178665412893,\n",
    " 'total_relevant_extra_mean': 4.086859309618731,\n",
    " 'total_utilized_overlap_mean': 0.8300857965095031,\n",
    " 'total_utilized_miss_mean': 0.48416035555728093,\n",
    " 'total_utilized_extra_mean': 2.232610781851467}\n",
    "\n",
    "{'covidqa': {'train': {'llm_error': 0,\n",
    "   'token_len_error': 0,\n",
    "   'dataset_error': 0},\n",
    "  'validation': {'llm_error': 0, 'token_len_error': 0, 'dataset_error': 0},\n",
    "  'test': {'llm_error': 0, 'token_len_error': 0, 'dataset_error': 0}},\n",
    " 'cuad': {'train': {'llm_error': 33,\n",
    "   'token_len_error': 0,\n",
    "   'dataset_error': 853},\n",
    "  'validation': {'llm_error': 14, 'token_len_error': 0, 'dataset_error': 285},\n",
    "  'test': {'llm_error': 11, 'token_len_error': 0, 'dataset_error': 240}}}\n",
    "\n",
    "\n",
    "{'covidqa': {'train': {'relevant_overlap_mean': 0.7495278252906438,\n",
    "   'relevant_miss_mean': 1.2887700534759359,\n",
    "   'relevant_extra_mean': 1.8021390374331552,\n",
    "   'utilized_overlap_mean': 0.8506616378274132,\n",
    "   'utilized_miss_mean': 0.4919786096256685,\n",
    "   'utilized_extra_mean': 0.8663101604278075},\n",
    "  'validation': {'relevant_overlap_mean': 0.7767592130092129,\n",
    "   'relevant_miss_mean': 1.45,\n",
    "   'relevant_extra_mean': 1.425,\n",
    "   'utilized_overlap_mean': 0.8822222222222222,\n",
    "   'utilized_miss_mean': 0.5,\n",
    "   'utilized_extra_mean': 0.725},\n",
    "  'test': {'relevant_overlap_mean': 0.7715885965885966,\n",
    "   'relevant_miss_mean': 1.2777777777777777,\n",
    "   'relevant_extra_mean': 1.9722222222222223,\n",
    "   'utilized_overlap_mean': 0.8717813051146385,\n",
    "   'utilized_miss_mean': 0.4166666666666667,\n",
    "   'utilized_extra_mean': 1.3055555555555556}},\n",
    " 'cuad': {'train': {'relevant_overlap_mean': 0.7615024441149008,\n",
    "   'relevant_miss_mean': 0.39705882352941174,\n",
    "   'relevant_extra_mean': 6.044117647058823,\n",
    "   'utilized_overlap_mean': 0.7781862745098039,\n",
    "   'utilized_miss_mean': 0.35294117647058826,\n",
    "   'utilized_extra_mean': 2.6911764705882355},\n",
    "  'validation': {'relevant_overlap_mean': 0.45906432748538006,\n",
    "   'relevant_miss_mean': 1.0526315789473684,\n",
    "   'relevant_extra_mean': 7.105263157894737,\n",
    "   'utilized_overlap_mean': 0.7894736842105263,\n",
    "   'utilized_miss_mean': 0.3157894736842105,\n",
    "   'utilized_extra_mean': 2.8421052631578947},\n",
    "  'test': {'relevant_overlap_mean': 0.694557422143629,\n",
    "   'relevant_miss_mean': 0.8620689655172413,\n",
    "   'relevant_extra_mean': 6.172413793103448,\n",
    "   'utilized_overlap_mean': 0.8081896551724138,\n",
    "   'utilized_miss_mean': 0.8275862068965517,\n",
    "   'utilized_extra_mean': 4.9655172413793105}}}"
   ]
  },
  {
   "cell_type": "code",
   "execution_count": null,
   "id": "128497e7",
   "metadata": {},
   "outputs": [],
   "source": []
  },
  {
   "cell_type": "code",
   "execution_count": null,
   "id": "01cdc563",
   "metadata": {},
   "outputs": [],
   "source": [
    "Датасет covidqa.train: 1252\n",
    "Датасет covidqa.train после чистки: 1252 на пусто\n",
    "Датасет covidqa.train после чистки: 1252 на max_tokens\n",
    "Датасет covidqa.train после чистки: 1252\n",
    "Взято из covidqa.train после чистки: 187\n",
    "100%|████████████████████████████████████████████████████████████████████████████████████████████████████████████████████████████████████████████████████████████████████████████████████████████████████████████| 24/24 [18:51<00:00, 47.13s/it]\n",
    "100%|███████████████████████████████████████████████████████████████████████████████████████████████████████████████████████████████████████████████████████████████████████████████████████████████████████| 187/187 [00:00<00:00, 11743.65it/s]\n",
    "Успешно распарсено в covidqa.train: 186\n",
    "Ошибочных ответов в covidqa.train: 1\n",
    "Датасет covidqa.validation: 267\n",
    "Датасет covidqa.validation после чистки: 267 на пусто\n",
    "Датасет covidqa.validation после чистки: 267 на max_tokens\n",
    "Датасет covidqa.validation после чистки: 267\n",
    "Взято из covidqa.validation после чистки: 40\n",
    "100%|██████████████████████████████████████████████████████████████████████████████████████████████████████████████████████████████████████████████████████████████████████████████████████████████████████████████| 5/5 [03:34<00:00, 42.90s/it]\n",
    "100%|█████████████████████████████████████████████████████████████████████████████████████████████████████████████████████████████████████████████████████████████████████████████████████████████████████████| 40/40 [00:00<00:00, 11809.12it/s]\n",
    "Успешно распарсено в covidqa.validation: 40\n",
    "Ошибочных ответов в covidqa.validation: 0\n",
    "Датасет covidqa.test: 246\n",
    "Датасет covidqa.test после чистки: 246 на пусто\n",
    "Датасет covidqa.test после чистки: 246 на max_tokens\n",
    "Датасет covidqa.test после чистки: 246\n",
    "Взято из covidqa.test после чистки: 36\n",
    "100%|██████████████████████████████████████████████████████████████████████████████████████████████████████████████████████████████████████████████████████████████████████████████████████████████████████████████| 5/5 [03:49<00:00, 45.89s/it]\n",
    "100%|█████████████████████████████████████████████████████████████████████████████████████████████████████████████████████████████████████████████████████████████████████████████████████████████████████████| 36/36 [00:00<00:00, 11368.39it/s]\n",
    "Успешно распарсено в covidqa.test: 36\n",
    "Ошибочных ответов в covidqa.test: 0\n",
    "Датасет cuad.train: 1530\n",
    "Датасет cuad.train после чистки: 1530 на пусто\n",
    "Датасет cuad.train после чистки: 677 на max_tokens\n",
    "Датасет cuad.train после чистки: 677\n",
    "Взято из cuad.train после чистки: 101\n",
    "100%|███████████████████████████████████████████████████████████████████████████████████████████████████████████████████████████████████████████████████████████████████████████████████████████████████████████| 13/13 [24:14<00:00, 111.88s/it]\n",
    "100%|████████████████████████████████████████████████████████████████████████████████████████████████████████████████████████████████████████████████████████████████████████████████████████████████████████| 101/101 [00:00<00:00, 5589.38it/s]\n",
    "Успешно распарсено в cuad.train: 78\n",
    "Ошибочных ответов в cuad.train: 23\n",
    "Датасет cuad.validation: 510\n",
    "Датасет cuad.validation после чистки: 510 на пусто\n",
    "Датасет cuad.validation после чистки: 225 на max_tokens\n",
    "Датасет cuad.validation после чистки: 225\n",
    "Взято из cuad.validation после чистки: 33\n",
    "100%|██████████████████████████████████████████████████████████████████████████████████████████████████████████████████████████████████████████████████████████████████████████████████████████████████████████████| 5/5 [07:25<00:00, 89.15s/it]\n",
    "100%|██████████████████████████████████████████████████████████████████████████████████████████████████████████████████████████████████████████████████████████████████████████████████████████████████████████| 33/33 [00:00<00:00, 5911.76it/s]\n",
    "Успешно распарсено в cuad.validation: 25\n",
    "Ошибочных ответов в cuad.validation: 8\n",
    "Датасет cuad.test: 510\n",
    "Датасет cuad.test после чистки: 510 на пусто\n",
    "Датасет cuad.test после чистки: 270 на max_tokens\n",
    "Датасет cuad.test после чистки: 270\n",
    "Взято из cuad.test после чистки: 40\n",
    "100%|██████████████████████████████████████████████████████████████████████████████████████████████████████████████████████████████████████████████████████████████████████████████████████████████████████████████| 5/5 [08:13<00:00, 98.79s/it]\n",
    "100%|██████████████████████████████████████████████████████████████████████████████████████████████████████████████████████████████████████████████████████████████████████████████████████████████████████████| 40/40 [00:00<00:00, 6705.52it/s]\n",
    "Успешно распарсено в cuad.test: 35\n",
    "Ошибочных ответов в cuad.test: 5\n",
    "Датасет delucionqa.train: 1460\n",
    "Датасет delucionqa.train после чистки: 1458 на пусто\n",
    "Датасет delucionqa.train после чистки: 1458 на max_tokens\n",
    "Датасет delucionqa.train после чистки: 1458\n",
    "Взято из delucionqa.train после чистки: 218\n",
    "100%|████████████████████████████████████████████████████████████████████████████████████████████████████████████████████████████████████████████████████████████████████████████████████████████████████████████| 28/28 [28:22<00:00, 60.80s/it]\n",
    "100%|████████████████████████████████████████████████████████████████████████████████████████████████████████████████████████████████████████████████████████████████████████████████████████████████████████| 218/218 [00:00<00:00, 6380.99it/s]\n",
    "Успешно распарсено в delucionqa.train: 182\n",
    "Ошибочных ответов в delucionqa.train: 36\n",
    "Датасет delucionqa.validation: 182\n",
    "Датасет delucionqa.validation после чистки: 182 на пусто\n",
    "Датасет delucionqa.validation после чистки: 182 на max_tokens\n",
    "Датасет delucionqa.validation после чистки: 182\n",
    "Взято из delucionqa.validation после чистки: 27\n",
    "100%|██████████████████████████████████████████████████████████████████████████████████████████████████████████████████████████████████████████████████████████████████████████████████████████████████████████████| 4/4 [03:53<00:00, 58.36s/it]\n",
    "100%|██████████████████████████████████████████████████████████████████████████████████████████████████████████████████████████████████████████████████████████████████████████████████████████████████████████| 27/27 [00:00<00:00, 6380.79it/s]\n",
    "Успешно распарсено в delucionqa.validation: 23\n",
    "Ошибочных ответов в delucionqa.validation: 4\n",
    "Датасет delucionqa.test: 184\n",
    "Датасет delucionqa.test после чистки: 184 на пусто\n",
    "Датасет delucionqa.test после чистки: 184 на max_tokens\n",
    "Датасет delucionqa.test после чистки: 184\n",
    "Взято из delucionqa.test после чистки: 27\n",
    "100%|██████████████████████████████████████████████████████████████████████████████████████████████████████████████████████████████████████████████████████████████████████████████████████████████████████████████| 4/4 [03:44<00:00, 56.11s/it]\n",
    "100%|██████████████████████████████████████████████████████████████████████████████████████████████████████████████████████████████████████████████████████████████████████████████████████████████████████████| 27/27 [00:00<00:00, 7685.52it/s]\n",
    "Успешно распарсено в delucionqa.test: 24\n",
    "Ошибочных ответов в delucionqa.test: 3\n",
    "Датасет emanual.train: 1054\n",
    "Датасет emanual.train после чистки: 1054 на пусто\n",
    "Датасет emanual.train после чистки: 1054 на max_tokens\n",
    "Датасет emanual.train после чистки: 1054\n",
    "Взято из emanual.train после чистки: 158\n",
    "100%|████████████████████████████████████████████████████████████████████████████████████████████████████████████████████████████████████████████████████████████████████████████████████████████████████████████| 20/20 [18:58<00:00, 56.91s/it]\n",
    "100%|████████████████████████████████████████████████████████████████████████████████████████████████████████████████████████████████████████████████████████████████████████████████████████████████████████| 158/158 [00:00<00:00, 7325.81it/s]\n",
    "Успешно распарсено в emanual.train: 142\n",
    "Ошибочных ответов в emanual.train: 16\n",
    "Датасет emanual.validation: 132\n",
    "Датасет emanual.validation после чистки: 132 на пусто\n",
    "Датасет emanual.validation после чистки: 132 на max_tokens\n",
    "Датасет emanual.validation после чистки: 132\n",
    "Взято из emanual.validation после чистки: 19\n",
    "100%|██████████████████████████████████████████████████████████████████████████████████████████████████████████████████████████████████████████████████████████████████████████████████████████████████████████████| 3/3 [02:24<00:00, 48.09s/it]\n",
    "100%|██████████████████████████████████████████████████████████████████████████████████████████████████████████████████████████████████████████████████████████████████████████████████████████████████████████| 19/19 [00:00<00:00, 7434.63it/s]\n",
    "Успешно распарсено в emanual.validation: 18\n",
    "Ошибочных ответов в emanual.validation: 1\n",
    "Датасет emanual.test: 132\n",
    "Датасет emanual.test после чистки: 132 на пусто\n",
    "Датасет emanual.test после чистки: 132 на max_tokens\n",
    "Датасет emanual.test после чистки: 132\n",
    "Взято из emanual.test после чистки: 19\n",
    "100%|██████████████████████████████████████████████████████████████████████████████████████████████████████████████████████████████████████████████████████████████████████████████████████████████████████████████| 3/3 [02:47<00:00, 55.77s/it]\n",
    "100%|██████████████████████████████████████████████████████████████████████████████████████████████████████████████████████████████████████████████████████████████████████████████████████████████████████████| 19/19 [00:00<00:00, 6882.44it/s]\n",
    "Успешно распарсено в emanual.test: 18\n",
    "Ошибочных ответов в emanual.test: 1\n",
    "Датасет expertqa.train: 1621\n",
    "Датасет expertqa.train после чистки: 1621 на пусто\n",
    "Датасет expertqa.train после чистки: 1462 на max_tokens\n",
    "Датасет expertqa.train после чистки: 1462\n",
    "Взято из expertqa.train после чистки: 219\n",
    "100%|████████████████████████████████████████████████████████████████████████████████████████████████████████████████████████████████████████████████████████████████████████████████████████████████████████████| 28/28 [38:40<00:00, 82.86s/it]\n",
    "100%|████████████████████████████████████████████████████████████████████████████████████████████████████████████████████████████████████████████████████████████████████████████████████████████████████████| 219/219 [00:00<00:00, 4968.02it/s]\n",
    "Успешно распарсено в expertqa.train: 143\n",
    "Ошибочных ответов в expertqa.train: 76\n",
    "Датасет expertqa.validation: 203\n",
    "Датасет expertqa.validation после чистки: 203 на пусто\n",
    "Датасет expertqa.validation после чистки: 190 на max_tokens\n",
    "Датасет expertqa.validation после чистки: 190\n",
    "Взято из expertqa.validation после чистки: 28\n",
    "100%|██████████████████████████████████████████████████████████████████████████████████████████████████████████████████████████████████████████████████████████████████████████████████████████████████████████████| 4/4 [05:10<00:00, 77.64s/it]\n",
    "100%|██████████████████████████████████████████████████████████████████████████████████████████████████████████████████████████████████████████████████████████████████████████████████████████████████████████| 28/28 [00:00<00:00, 4872.24it/s]\n",
    "Успешно распарсено в expertqa.validation: 20\n",
    "Ошибочных ответов в expertqa.validation: 8\n",
    "Датасет expertqa.test: 203\n",
    "Датасет expertqa.test после чистки: 203 на пусто\n",
    "Датасет expertqa.test после чистки: 183 на max_tokens\n",
    "Датасет expertqa.test после чистки: 183\n",
    "Взято из expertqa.test после чистки: 27\n",
    "100%|██████████████████████████████████████████████████████████████████████████████████████████████████████████████████████████████████████████████████████████████████████████████████████████████████████████████| 4/4 [05:02<00:00, 75.64s/it]\n",
    "100%|██████████████████████████████████████████████████████████████████████████████████████████████████████████████████████████████████████████████████████████████████████████████████████████████████████████| 27/27 [00:00<00:00, 5770.51it/s]\n",
    "Успешно распарсено в expertqa.test: 20\n",
    "Ошибочных ответов в expertqa.test: 7\n",
    "Датасет finqa.train: 12502\n",
    "Датасет finqa.train после чистки: 12502 на пусто\n",
    "Датасет finqa.train после чистки: 12502 на max_tokens\n",
    "Датасет finqa.train после чистки: 12502\n",
    "Взято из finqa.train после чистки: 1875\n",
    "100%|████████████████████████████████████████████████████████████████████████████████████████████████████████████████████████████████████████████████████████████████████████████████████████████████████████| 235/235 [3:28:42<00:00, 53.29s/it]\n",
    "100%|██████████████████████████████████████████████████████████████████████████████████████████████████████████████████████████████████████████████████████████████████████████████████████████████████████| 1875/1875 [00:00<00:00, 9482.64it/s]\n",
    "Успешно распарсено в finqa.train: 1859\n",
    "Ошибочных ответов в finqa.train: 16\n",
    "Датасет finqa.validation: 1766\n",
    "Датасет finqa.validation после чистки: 1766 на пусто\n",
    "Датасет finqa.validation после чистки: 1766 на max_tokens\n",
    "Датасет finqa.validation после чистки: 1766\n",
    "Взято из finqa.validation после чистки: 264\n",
    "100%|████████████████████████████████████████████████████████████████████████████████████████████████████████████████████████████████████████████████████████████████████████████████████████████████████████████| 33/33 [50:14<00:00, 91.34s/it]\n",
    "100%|████████████████████████████████████████████████████████████████████████████████████████████████████████████████████████████████████████████████████████████████████████████████████████████████████████| 264/264 [00:00<00:00, 9349.40it/s]\n",
    "Успешно распарсено в finqa.validation: 263\n",
    "Ошибочных ответов в finqa.validation: 1\n",
    "Датасет finqa.test: 2294\n",
    "Датасет finqa.test после чистки: 2294 на пусто\n",
    "Датасет finqa.test после чистки: 2294 на max_tokens\n",
    "Датасет finqa.test после чистки: 2294\n",
    "Взято из finqa.test после чистки: 344\n",
    " 93%|████████████████████████████████████████████████████████████"
   ]
  }
 ],
 "metadata": {
  "kernelspec": {
   "display_name": "Python 3 (ipykernel)",
   "language": "python",
   "name": "python3"
  },
  "language_info": {
   "codemirror_mode": {
    "name": "ipython",
    "version": 3
   },
   "file_extension": ".py",
   "mimetype": "text/x-python",
   "name": "python",
   "nbconvert_exporter": "python",
   "pygments_lexer": "ipython3",
   "version": "3.10.12"
  }
 },
 "nbformat": 4,
 "nbformat_minor": 5
}
